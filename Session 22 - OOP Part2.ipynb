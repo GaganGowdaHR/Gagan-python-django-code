{
 "cells": [
  {
   "cell_type": "code",
   "execution_count": null,
   "metadata": {},
   "outputs": [],
   "source": [
    "class class_name:\n",
    "    def __init__(self):\n",
    "        self.var_name = val\n",
    "        \n",
    "obj_name = class_name"
   ]
  },
  {
   "cell_type": "code",
   "execution_count": 6,
   "metadata": {},
   "outputs": [
    {
     "name": "stdout",
     "output_type": "stream",
     "text": [
      "abc@123\n"
     ]
    }
   ],
   "source": [
    "class user:\n",
    "    def __init__(self,username,email,password):\n",
    "        \n",
    "        self.user_name = username\n",
    "        self.email = email\n",
    "        self.password = password\n",
    "\n",
    "user1 = user(\"abc@123\",\"abc@gmail.com\",\"password@123\")\n",
    "# user(user1,\"abc@123\",\"abc@gmail.com\",\"password@123\")\n",
    "user2 = user(\"pqr@123\",\"pqr@gmail.com\",\"password@123\")\n",
    "print(user1.user_name)"
   ]
  },
  {
   "cell_type": "code",
   "execution_count": 3,
   "metadata": {},
   "outputs": [
    {
     "name": "stdout",
     "output_type": "stream",
     "text": [
      "3 RST 34.6 Fail\n",
      "4 XYZ 39.0 Fail\n",
      "5 PPP 24.8 Fail\n",
      "[(<__main__.Student object at 0x000002F71436D2C8>, 88.2), (<__main__.Student object at 0x000002F71436D308>, 71.2), (<__main__.Student object at 0x000002F71436D808>, 73.0)]\n",
      "(<__main__.Student object at 0x000002F71436D2C8>, 88.2)\n",
      "Topper of the class is 1 ABC 88.2 Pass\n"
     ]
    }
   ],
   "source": [
    "class Student:\n",
    "    def __init__(self,roll_no,name):\n",
    "        self.roll_no = roll_no\n",
    "        self.name = name\n",
    "        \n",
    "    def add_marks(self,marks):\n",
    "        self.marks = marks\n",
    "        \n",
    "    def cal_result(self):\n",
    "        self.per = sum(self.marks.values())/500 * 100\n",
    "        if self.per >= 40:\n",
    "            self.result = \"Pass\"\n",
    "        else:\n",
    "            self.result = \"Fail\"\n",
    "            \n",
    "    def get_details(self):\n",
    "        return \"{} {} {} {}\".format(str(self.roll_no),self.name,round(self.per,2),self.result)\n",
    "    \n",
    "    \n",
    "stud1 = Student(1,\"ABC\")\n",
    "stud2 = Student(2,\"PQR\")\n",
    "stud3 = Student(3,\"RST\")\n",
    "stud4 = Student(4,\"XYZ\")\n",
    "stud5 = Student(5,\"PPP\")\n",
    "stud6 = Student(6,\"TTT\")\n",
    "\n",
    "stud1.add_marks({\"eng\":78,\"maths\":88,\"his\":88,\"sci\":88,\"geo\":99})\n",
    "stud2.add_marks({\"eng\":80,\"maths\":77,\"his\":89,\"sci\":70,\"geo\":40})\n",
    "stud3.add_marks({\"eng\":50,\"maths\":33,\"his\":30,\"sci\":30,\"geo\":30})\n",
    "stud4.add_marks({\"eng\":30,\"maths\":44,\"his\":35,\"sci\":56,\"geo\":30})\n",
    "stud5.add_marks({\"eng\":20,\"maths\":20,\"his\":20,\"sci\":44,\"geo\":20})\n",
    "stud6.add_marks({\"eng\":35,\"maths\":66,\"his\":89,\"sci\":76,\"geo\":99})\n",
    "\n",
    "students = [stud1,stud2,stud3,stud4,stud5,stud6]\n",
    "for student in students:\n",
    "    student.cal_result()\n",
    "    \n",
    "\n",
    "#Failed Students\n",
    "for student in students:\n",
    "    if student.result == \"Fail\":\n",
    "        print(student.get_details())\n",
    "        \n",
    "student_per = [(student,student.per) for student in students if student.result == \"Pass\"]\n",
    "print(student_per)\n",
    "topper = max(student_per,key = lambda t : t[1])\n",
    "print(topper)\n",
    "print(\"Topper of the class is\",topper[0].get_details())"
   ]
  },
  {
   "cell_type": "code",
   "execution_count": null,
   "metadata": {},
   "outputs": [],
   "source": []
  }
 ],
 "metadata": {
  "kernelspec": {
   "display_name": "Python 3",
   "language": "python",
   "name": "python3"
  },
  "language_info": {
   "codemirror_mode": {
    "name": "ipython",
    "version": 3
   },
   "file_extension": ".py",
   "mimetype": "text/x-python",
   "name": "python",
   "nbconvert_exporter": "python",
   "pygments_lexer": "ipython3",
   "version": "3.7.4"
  }
 },
 "nbformat": 4,
 "nbformat_minor": 2
}
