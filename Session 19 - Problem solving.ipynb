{
 "cells": [
  {
   "cell_type": "code",
   "execution_count": 2,
   "metadata": {},
   "outputs": [],
   "source": [
    "# 1.Keyword density is a foundational aspect of on-page SEO. When used correctly, it can help attract search engines and boost a page’s visibility on search engine results pages (SERPs).\n",
    "# Formula to calculate the keyword density :\n",
    "\n",
    "# keyword density = Number of times the target keyword appears / Number of words on a webpage = Keyword density\n",
    "\n",
    "# eg : 20 (Number of times “project management” appears on the page) / 1,000 (Number of words on the webpage) = 2% (Keyword density)\n",
    "\n",
    "# - Write a program to find out 10 words with highest keyword density from a given text file.\n",
    "# - Given a set of keywords calulate the keyword density for the same."
   ]
  },
  {
   "cell_type": "code",
   "execution_count": 3,
   "metadata": {},
   "outputs": [
    {
     "name": "stdout",
     "output_type": "stream",
     "text": [
      "Total numbers of words in this file 610\n",
      "0.00819672131147541\n"
     ]
    }
   ],
   "source": [
    "import re\n",
    "fp = open(\"blog.txt\",\"r\",encoding = \"utf-8\")\n",
    "raw_content = fp.read()\n",
    "\n",
    "words = re.compile(\"[a-zA-Z]+\")\n",
    "all_words = re.findall(words,raw_content.lower())\n",
    "all_words_count = len(all_words)\n",
    "\n",
    "print(\"Total numbers of words in this file {}\".format(all_words_count))\n",
    "\n",
    "target_keyword = \"Artificial Intelligence\".lower()\n",
    "target_keyword_count = raw_content.count(target_keyword)\n",
    "keyword_density = target_keyword_count / all_words_count\n",
    "print(keyword_density)\n",
    "fp.close()"
   ]
  },
  {
   "cell_type": "code",
   "execution_count": null,
   "metadata": {},
   "outputs": [],
   "source": [
    "2.Write a program to search word in given text file.\n",
    "If a word is present print the sentence containing the given word.\n",
    "Implement find, find next and find all functionality"
   ]
  },
  {
   "cell_type": "code",
   "execution_count": 13,
   "metadata": {},
   "outputs": [
    {
     "name": "stdout",
     "output_type": "stream",
     "text": [
      "['We’re rapidly moving towards a day and age where almost everything can be controlled by machines and one of the most revolutionary moves has been the advent of artificial intelligence.', '\\n\\n \\n\\nTypes\\n\\nNext in line with this artificial intelligence online course is understanding the various types of AI.']\n"
     ]
    }
   ],
   "source": [
    "import re\n",
    "fp = open(\"blog.txt\",\"r\",encoding=\"utf-8\")\n",
    "raw_content = fp.read()\n",
    "sentense = re.compile(\"[a-zA-Z\\s’]+\\.\")\n",
    "all_sen = re.findall(sentense,raw_content)\n",
    "# print(all_sen)\n",
    "\n",
    "keyword = \"Artificial Intelligence\".lower()\n",
    "f = filter(lambda value:keyword in value,all_sen)\n",
    "print(list(f))"
   ]
  },
  {
   "cell_type": "code",
   "execution_count": null,
   "metadata": {},
   "outputs": [],
   "source": [
    "3.Word Wrap - Given a sequence of words, and a limit on the number of characters that can be put in one line (line width). Put line breaks in the given sequence such that the lines are printed neatly.\n",
    "\n",
    "Assume that the length of each word is smaller than the line width."
   ]
  },
  {
   "cell_type": "code",
   "execution_count": 14,
   "metadata": {},
   "outputs": [
    {
     "name": "stdout",
     "output_type": "stream",
     "text": [
      "[6, 28]\n"
     ]
    }
   ],
   "source": [
    "f = filter(lambda num1:num1 == sum([value for value in range(1,num1) if num1 % value == 0]),range(1,100))\n",
    "print(list(f))"
   ]
  }
 ],
 "metadata": {
  "kernelspec": {
   "display_name": "Python 3",
   "language": "python",
   "name": "python3"
  },
  "language_info": {
   "codemirror_mode": {
    "name": "ipython",
    "version": 3
   },
   "file_extension": ".py",
   "mimetype": "text/x-python",
   "name": "python",
   "nbconvert_exporter": "python",
   "pygments_lexer": "ipython3",
   "version": "3.7.4"
  }
 },
 "nbformat": 4,
 "nbformat_minor": 2
}
