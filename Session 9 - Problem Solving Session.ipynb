{
 "cells": [
  {
   "cell_type": "code",
   "execution_count": 1,
   "metadata": {},
   "outputs": [
    {
     "ename": "SyntaxError",
     "evalue": "invalid syntax (<ipython-input-1-0e3934d588d1>, line 1)",
     "output_type": "error",
     "traceback": [
      "\u001b[1;36m  File \u001b[1;32m\"<ipython-input-1-0e3934d588d1>\"\u001b[1;36m, line \u001b[1;32m1\u001b[0m\n\u001b[1;33m    True/False :\u001b[0m\n\u001b[1;37m                ^\u001b[0m\n\u001b[1;31mSyntaxError\u001b[0m\u001b[1;31m:\u001b[0m invalid syntax\n"
     ]
    }
   ],
   "source": [
    "True/False :\n",
    "    - Comparision ==, != ,< , >\n",
    "    - Identity is is not\n",
    "    - Membership in not in \n",
    "    - Logical operators and or not\n",
    "    \n",
    "== => values\n",
    "is => memory allocation\n",
    "\n",
    "False values : None \"\" 0 [] () {}\n",
    "    \n",
    "enumerate\n",
    "for index,value in enumerate(iterable):\n",
    "    \n",
    "keys, values => items()\n",
    "\n",
    "for \n",
    "else:\n",
    "    \n",
    "[start:end:stride]\n",
    "2 => every seco char\n",
    "-1 => \n",
    "1 => left to right\n",
    "\n",
    "s[100] => Indexerror  #if 100 not exist\n",
    "\n",
    "Lists:\n",
    "    add :\n",
    "        append extend insert\n",
    "        \n",
    "    update :\n",
    "        l[index]=new_value\n",
    "        \n",
    "    delete :\n",
    "        pop => index\n",
    "        remove => value\n",
    "        clear => empty list\n",
    "        del => del reference\n",
    "        \n",
    "        l1 + l2 => it will perform same operation as extend or concatinate two list\n",
    "        l1 * l2 => repeat same list two times\n",
    "        \n",
    "Dict :\n",
    "    Add :\n",
    "        d[key] = value\n",
    "        setdefault(key,default_value) => it return the existing value if key exist and if key does not exist\n",
    "                                         it set the value defaultly\n",
    "        \n",
    "    Upadate :\n",
    "        d[key] = new_value\n",
    "        \n",
    "    delete :\n",
    "        pop => deletes key\n",
    "        pop.item => del last key and value\n",
    "        clear => empty dict\n",
    "        del => del ref\n",
    "        \n",
    "rules of dict\n",
    "- mutable\n",
    "- unordered\n",
    "- all the keys should be unique\n",
    "- all the keys should be immutable => int,str,float,tuple\n",
    "\n",
    "\n",
    "Sets :\n",
    "    - mutable \n",
    "    - unordered\n",
    "    - all the elements should be unique\n",
    "    - all the elements should be immutable\n",
    "    \n",
    "Iterable :\n",
    "    list tuple str dict set\n",
    "Not iterable :\n",
    "    int float\n",
    "    \n",
    "    \n",
    "print(dir(list))\n",
    "\n",
    "help(list)"
   ]
  },
  {
   "cell_type": "code",
   "execution_count": null,
   "metadata": {},
   "outputs": [],
   "source": [
    "1.Find the missing number in given integer array of 1 to 10\n",
    "l = [1,2,3,4,5,6,7,7,8,9,10]\n",
    "\n",
    "=> Range(1,11)\n",
    "\n",
    "\n",
    "=> Sum of n natural nos : n (n+1) / 2\n",
    "    sum => 1 to 10\n",
    "    sum_list\n",
    "    missing_element = sum - sum_list\n",
    "    \n",
    "=> sets only unique elements"
   ]
  },
  {
   "cell_type": "code",
   "execution_count": 2,
   "metadata": {},
   "outputs": [
    {
     "name": "stdout",
     "output_type": "stream",
     "text": [
      "[8]\n"
     ]
    }
   ],
   "source": [
    "input_nums = [1,2,3,4,5,6,7,9,10]\n",
    "all_nums = list(range(1,11))\n",
    "missing_element = []\n",
    "\n",
    "for value in all_nums:\n",
    "    if value not in input_nums:\n",
    "        missing_element.append(value)\n",
    "print(missing_element)"
   ]
  },
  {
   "cell_type": "code",
   "execution_count": 3,
   "metadata": {},
   "outputs": [
    {
     "name": "stdout",
     "output_type": "stream",
     "text": [
      "55.0\n"
     ]
    }
   ],
   "source": [
    "input_nums = [1,2,3,4,5,6,7,9,10]\n",
    "n = 10\n",
    "expected_sum = n * (n + 1) / 2\n",
    "print(expected_sum)\n"
   ]
  },
  {
   "cell_type": "code",
   "execution_count": 4,
   "metadata": {},
   "outputs": [
    {
     "name": "stdout",
     "output_type": "stream",
     "text": [
      "[8]\n"
     ]
    }
   ],
   "source": [
    "input_nums = [1,2,3,4,5,6,7,9,10]#sum of all elements\n",
    "n = 10\n",
    "expected_sum = n * (n + 1) / 2\n",
    "actual_sum = sum(input_nums)\n",
    "missing_nums = expected_sum - actual_sum\n",
    "print(missing_element)"
   ]
  },
  {
   "cell_type": "code",
   "execution_count": null,
   "metadata": {},
   "outputs": [],
   "source": [
    "2.Find an element in array such that sum of left array is equal to right array.\n",
    "\n",
    "l = [1,2,3,1,1,1]\n",
    "\n",
    "1 2 left side 1 rs => 6\n",
    "  3 left side right side => 3"
   ]
  },
  {
   "cell_type": "code",
   "execution_count": 9,
   "metadata": {},
   "outputs": [
    {
     "name": "stdout",
     "output_type": "stream",
     "text": [
      "eqi element is present at index 2 and value is 3\n"
     ]
    }
   ],
   "source": [
    "l = [1,2,3,1,1,1]\n",
    "\n",
    "for index,value in enumerate(l):\n",
    "    if sum(l[:index]) == sum(l[index + 1:]):\n",
    "        print(\"eqi element is present at index {} and value is {}\".format(index,l[index]))\n",
    "        break"
   ]
  },
  {
   "cell_type": "code",
   "execution_count": 10,
   "metadata": {},
   "outputs": [
    {
     "name": "stdout",
     "output_type": "stream",
     "text": [
      "eqi element is present at index 4 and value is 5\n"
     ]
    }
   ],
   "source": [
    "l = [1,2,1,1,5,1,4]\n",
    "for index,value in enumerate(l):\n",
    "    if sum(l[:index]) == sum(l[index + 1:]):\n",
    "        print(\"eqi element is present at index {} and value is {}\".format(index,l[index]))\n",
    "        break"
   ]
  },
  {
   "cell_type": "code",
   "execution_count": null,
   "metadata": {},
   "outputs": [],
   "source": [
    "3.Given string: first, second and third. Third string is said to be a shuffle of first\n",
    "    and second if it can be formed byinterleaving the chracters of first and second string\n",
    "    in a way that maintain the left to right ordering of the characters from each string.\n",
    "    \n",
    "For exmaple, given first = \"abc\" second = \"def\" and third = \"dabecf\" is valid shuffle since it preserves \n",
    "the character ordering of the two strings. So,given these string write a program that detects whether the \n",
    "third string is valid shuffle of first and second string."
   ]
  },
  {
   "cell_type": "code",
   "execution_count": 17,
   "metadata": {},
   "outputs": [
    {
     "name": "stdout",
     "output_type": "stream",
     "text": [
      "valid shuffle\n"
     ]
    }
   ],
   "source": [
    "s1 = \"abc\"\n",
    "s2 = \"def\"\n",
    "\n",
    "s3 = \"dabecf\"\n",
    "\n",
    "# 1. Iterate over s3\n",
    "# 2.Check if char is present in S1 or S2\n",
    "# 3. s1_pointer = l s2_pointer = 1\n",
    "\n",
    "s1_pointer = s2_pointer = 0\n",
    "s3_index = 0\n",
    "while s3_index < len(s3):\n",
    "    \n",
    "    if s3[s3_index] in s1 and s1[s1_pointer] == s3[s3_index]:\n",
    "        s1_pointer+=1\n",
    "        \n",
    "    elif s3[s3_index] in s2 and s2[s2_pointer] == s3[s3_index]:\n",
    "        s2_pointer+=1\n",
    "    else:\n",
    "        print(\"Not a valid shuffle\")\n",
    "        break\n",
    "    s3_index+=1\n",
    "else:\n",
    "    print(\"valid shuffle\")"
   ]
  },
  {
   "cell_type": "code",
   "execution_count": null,
   "metadata": {},
   "outputs": [],
   "source": []
  }
 ],
 "metadata": {
  "kernelspec": {
   "display_name": "Python 3",
   "language": "python",
   "name": "python3"
  },
  "language_info": {
   "codemirror_mode": {
    "name": "ipython",
    "version": 3
   },
   "file_extension": ".py",
   "mimetype": "text/x-python",
   "name": "python",
   "nbconvert_exporter": "python",
   "pygments_lexer": "ipython3",
   "version": "3.7.4"
  }
 },
 "nbformat": 4,
 "nbformat_minor": 2
}
