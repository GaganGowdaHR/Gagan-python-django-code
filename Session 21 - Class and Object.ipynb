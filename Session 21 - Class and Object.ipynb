{
 "cells": [
  {
   "cell_type": "code",
   "execution_count": null,
   "metadata": {},
   "outputs": [],
   "source": [
    "class and objects"
   ]
  },
  {
   "cell_type": "code",
   "execution_count": null,
   "metadata": {},
   "outputs": [],
   "source": [
    "Class :\n",
    "    Data members / attributes / variables\n",
    "    Methods\n",
    "    \n",
    "Objects"
   ]
  },
  {
   "cell_type": "code",
   "execution_count": null,
   "metadata": {},
   "outputs": [],
   "source": [
    "Paytm\n",
    "Class:\n",
    "    contact\n",
    "    email\n",
    "    kyc\n",
    "    \n",
    "    recharge\n",
    "    boook_tickets\n",
    "    bill\n",
    "    wallet\n",
    "    \n",
    "user1\n",
    "user2\n",
    "    "
   ]
  },
  {
   "cell_type": "code",
   "execution_count": null,
   "metadata": {},
   "outputs": [],
   "source": [
    "User\n",
    "   user_name\n",
    "    name\n",
    "    email\n",
    "    password\n",
    "    contact\n",
    "    \n",
    "    login\n",
    "    logout\n",
    "    \n",
    "    add_contact\n",
    "    add_name\n",
    "    update_name\n",
    "    update_email\n",
    "    change_password\n",
    "    change_contact"
   ]
  },
  {
   "cell_type": "code",
   "execution_count": 6,
   "metadata": {},
   "outputs": [
    {
     "name": "stdout",
     "output_type": "stream",
     "text": [
      "<__main__.user object at 0x0000021A9F178B08>\n"
     ]
    }
   ],
   "source": [
    "class user:\n",
    "    pass\n",
    "\n",
    "user1 = user()\n",
    "print(user1)"
   ]
  },
  {
   "cell_type": "code",
   "execution_count": null,
   "metadata": {},
   "outputs": [],
   "source": [
    "Instance Varible : Every object will have its own copy of that variable"
   ]
  },
  {
   "cell_type": "code",
   "execution_count": 9,
   "metadata": {},
   "outputs": [],
   "source": [
    "class user:\n",
    "    def __init__(self,username,email,password):\n",
    "        \n",
    "        self.user_name = username\n",
    "        self.email = email\n",
    "        self.password = password\n",
    "\n",
    "user1 = user(\"abc@123\",\"abc@gmail.com\",\"password@123\")\n",
    "# user(user1,\"abc@123\",\"abc@gmail.com\",\"password@123\")\n",
    "user2 = user(\"pqr@123\",\"pqr@gmail.com\",\"password@123\")"
   ]
  },
  {
   "cell_type": "code",
   "execution_count": 13,
   "metadata": {},
   "outputs": [
    {
     "name": "stdout",
     "output_type": "stream",
     "text": [
      "abc@123 abc@gmail.com\n",
      "pqr@123 pqr@gmail.com\n"
     ]
    }
   ],
   "source": [
    "print(user1.user_name,user1.email)\n",
    "print(user2.user_name,user2.email)"
   ]
  },
  {
   "cell_type": "code",
   "execution_count": 14,
   "metadata": {},
   "outputs": [
    {
     "ename": "TypeError",
     "evalue": "user() takes no arguments",
     "output_type": "error",
     "traceback": [
      "\u001b[1;31m---------------------------------------------------------------------------\u001b[0m",
      "\u001b[1;31mTypeError\u001b[0m                                 Traceback (most recent call last)",
      "\u001b[1;32m<ipython-input-14-5f8d2cfe0fe6>\u001b[0m in \u001b[0;36m<module>\u001b[1;34m\u001b[0m\n\u001b[0;32m      6\u001b[0m         \u001b[0mself\u001b[0m\u001b[1;33m.\u001b[0m\u001b[0mpassword\u001b[0m \u001b[1;33m=\u001b[0m \u001b[0mpassword\u001b[0m\u001b[1;33m\u001b[0m\u001b[1;33m\u001b[0m\u001b[0m\n\u001b[0;32m      7\u001b[0m \u001b[1;33m\u001b[0m\u001b[0m\n\u001b[1;32m----> 8\u001b[1;33m \u001b[0muser1\u001b[0m \u001b[1;33m=\u001b[0m \u001b[0muser\u001b[0m\u001b[1;33m(\u001b[0m\u001b[1;34m\"abc@123\"\u001b[0m\u001b[1;33m,\u001b[0m\u001b[1;34m\"abc@gmail.com\"\u001b[0m\u001b[1;33m,\u001b[0m\u001b[1;34m\"password@123\"\u001b[0m\u001b[1;33m)\u001b[0m\u001b[1;33m\u001b[0m\u001b[1;33m\u001b[0m\u001b[0m\n\u001b[0m\u001b[0;32m      9\u001b[0m \u001b[0muser2\u001b[0m \u001b[1;33m=\u001b[0m \u001b[0muser\u001b[0m\u001b[1;33m(\u001b[0m\u001b[1;34m\"pqr@123\"\u001b[0m\u001b[1;33m,\u001b[0m\u001b[1;34m\"pqr@gmail.com\"\u001b[0m\u001b[1;33m,\u001b[0m\u001b[1;34m\"password@123\"\u001b[0m\u001b[1;33m)\u001b[0m\u001b[1;33m\u001b[0m\u001b[1;33m\u001b[0m\u001b[0m\n",
      "\u001b[1;31mTypeError\u001b[0m: user() takes no arguments"
     ]
    }
   ],
   "source": [
    "class User:\n",
    "    def signup(self,username,email,password):\n",
    "        \n",
    "        self.user_name = username\n",
    "        self.email = email\n",
    "        self.password = password\n",
    "\n",
    "user1 = user(\"abc@123\",\"abc@gmail.com\",\"password@123\")\n",
    "user2 = user(\"pqr@123\",\"pqr@gmail.com\",\"password@123\")"
   ]
  },
  {
   "cell_type": "code",
   "execution_count": 18,
   "metadata": {},
   "outputs": [
    {
     "name": "stdout",
     "output_type": "stream",
     "text": [
      "abc@123 abc@gmail.com\n",
      "pqr@123 pqr@gmail.com\n"
     ]
    }
   ],
   "source": [
    "class User:\n",
    "    def signup(self,username,email,password): #without init\n",
    "        \n",
    "        self.user_name = username\n",
    "        self.email = email\n",
    "        self.password = password\n",
    "        \n",
    "user1 = user()\n",
    "user2 = user()\n",
    "user1.signup(\"abc@123\",\"abc@gmail.com\",\"password@123\")\n",
    "user2.signup(\"pqr@123\",\"pqr@gmail.com\",\"password@123\")\n",
    "print(user1.user_name,user1.email)\n",
    "print(user2.user_name,user2.email)"
   ]
  },
  {
   "cell_type": "code",
   "execution_count": 24,
   "metadata": {},
   "outputs": [
    {
     "name": "stdout",
     "output_type": "stream",
     "text": [
      "True\n"
     ]
    }
   ],
   "source": [
    "class user:\n",
    "    def __init__(self,username,email,password):\n",
    "        \n",
    "        self.user_name = username\n",
    "        self.email = email\n",
    "        self.password = password\n",
    "        \n",
    "    def login(self,username,password):\n",
    "        if self.user_name == username and self.password == password:\n",
    "            return True\n",
    "        else:\n",
    "            return False\n",
    "\n",
    "user1 = user(\"abc@123\",\"abc@gmail.com\",\"password@123\")\n",
    "# user(user1,\"abc@123\",\"abc@gmail.com\",\"password@123\")\n",
    "user2 = user(\"pqr@123\",\"pqr@gmail.com\",\"password@123\")\n",
    "\n",
    "print(user1.login(\"abc@123\",\"password@123\"))"
   ]
  },
  {
   "cell_type": "code",
   "execution_count": 29,
   "metadata": {},
   "outputs": [
    {
     "name": "stdout",
     "output_type": "stream",
     "text": [
      "ABC\n",
      "PQR\n"
     ]
    }
   ],
   "source": [
    "class user:\n",
    "    def __init__(self,username,email,password):\n",
    "        \n",
    "        self.user_name = username\n",
    "        self.email = email\n",
    "        self.password = password\n",
    "        \n",
    "    def login(self,username,password):\n",
    "        if self.user_name == username and self.password == password:\n",
    "            return True\n",
    "        else:\n",
    "            return False\n",
    "        \n",
    "    def add_name(self,name):\n",
    "        self.name = name\n",
    "\n",
    "user1 = user(\"abc@123\",\"abc@gmail.com\",\"password@123\")\n",
    "# user(user1,\"abc@123\",\"abc@gmail.com\",\"password@123\")\n",
    "user2 = user(\"pqr@123\",\"pqr@gmail.com\",\"password@123\")\n",
    "\n",
    "user1.add_name(\"ABC\")\n",
    "user2.add_name(\"PQR\")\n",
    "print(user1.name)\n",
    "print(user2.name)"
   ]
  },
  {
   "cell_type": "code",
   "execution_count": 32,
   "metadata": {},
   "outputs": [
    {
     "name": "stdout",
     "output_type": "stream",
     "text": [
      "{'user_name': 'abc@123', 'email': 'abc@gmail.com', 'password': 'password@123', 'name': 'ABC'}\n",
      "{'user_name': 'pqr@123', 'email': 'pqr@gmail.com', 'password': 'password@123', 'name': 'PQR'}\n"
     ]
    }
   ],
   "source": [
    "print(user1.__dict__) #object values \n",
    "print(user2.__dict__)"
   ]
  },
  {
   "cell_type": "code",
   "execution_count": 34,
   "metadata": {},
   "outputs": [
    {
     "name": "stdout",
     "output_type": "stream",
     "text": [
      "password@123\n",
      "abc@gmail\n"
     ]
    }
   ],
   "source": [
    "class user:\n",
    "    def __init__(self,username,email,password):\n",
    "        \n",
    "        self.user_name = username\n",
    "        self.email = email\n",
    "        self.password = password\n",
    "        \n",
    "    def login(self,username,password):\n",
    "        if self.user_name == username and self.password == password:\n",
    "            return True\n",
    "        else:\n",
    "            return False\n",
    "        \n",
    "    def change_password(self,new_password):\n",
    "        self.password = new_password\n",
    "\n",
    "user1 = user(\"abc@123\",\"abc@gmail.com\",\"password@123\")\n",
    "# user(user1,\"abc@123\",\"abc@gmail.com\",\"password@123\")\n",
    "user2 = user(\"pqr@123\",\"pqr@gmail.com\",\"password@123\")\n",
    "print(user1.password)  #old password\n",
    "user1.change_password(\"abc@gmail\") # new password\n",
    "\n",
    "print(user1.password)"
   ]
  },
  {
   "cell_type": "code",
   "execution_count": 35,
   "metadata": {},
   "outputs": [
    {
     "name": "stdout",
     "output_type": "stream",
     "text": [
      "<__main__.user object at 0x0000021A9F177948>\n"
     ]
    }
   ],
   "source": [
    "class user:\n",
    "    def __init__(self,username,email,password):\n",
    "        \n",
    "        self.user_name = username\n",
    "        self.email = email\n",
    "        self.password = password\n",
    "        \n",
    "    def login(self,username,password):\n",
    "        if self.user_name == username and self.password == password:\n",
    "            return True\n",
    "        else:\n",
    "            return False\n",
    "        \n",
    "    def change_password(self,new_password):\n",
    "        self.password = new_password\n",
    "\n",
    "user1 = user(\"abc@123\",\"abc@gmail.com\",\"password@123\")\n",
    "# user(user1,\"abc@123\",\"abc@gmail.com\",\"password@123\")\n",
    "user2 = user(\"pqr@123\",\"pqr@gmail.com\",\"password@123\")\n",
    "\n",
    "print(user1) #doesnt give value need to add aditional method"
   ]
  },
  {
   "cell_type": "code",
   "execution_count": 37,
   "metadata": {},
   "outputs": [
    {
     "name": "stdout",
     "output_type": "stream",
     "text": [
      "abc@123\n"
     ]
    }
   ],
   "source": [
    "class user:\n",
    "    def __init__(self,username,email,password):\n",
    "        \n",
    "        self.user_name = username\n",
    "        self.email = email\n",
    "        self.password = password\n",
    "        \n",
    "    def login(self,username,password):\n",
    "        if self.user_name == username and self.password == password:\n",
    "            return True\n",
    "        else:\n",
    "            return False\n",
    "        \n",
    "    def change_password(self,new_password):\n",
    "        self.password = new_password\n",
    "        \n",
    "    def __str__(self):\n",
    "        return self.user_name   # should be only str\n",
    "\n",
    "user1 = user(\"abc@123\",\"abc@gmail.com\",\"password@123\")\n",
    "# user(user1,\"abc@123\",\"abc@gmail.com\",\"password@123\")\n",
    "user2 = user(\"pqr@123\",\"pqr@gmail.com\",\"password@123\")\n",
    "\n",
    "print(user1)\n"
   ]
  },
  {
   "cell_type": "code",
   "execution_count": 39,
   "metadata": {},
   "outputs": [
    {
     "name": "stdout",
     "output_type": "stream",
     "text": [
      "abc@123 password@123\n"
     ]
    }
   ],
   "source": [
    "class user:\n",
    "    def __init__(self,username,email,password):\n",
    "        \n",
    "        self.user_name = username\n",
    "        self.email = email\n",
    "        self.password = password\n",
    "        \n",
    "    def login(self,username,password):\n",
    "        if self.user_name == username and self.password == password:\n",
    "            return True\n",
    "        else:\n",
    "            return False\n",
    "        \n",
    "    def change_password(self,new_password):\n",
    "        self.password = new_password\n",
    "        \n",
    "    def __str__(self):\n",
    "        return \"{} {}\".format(self.user_name,self.password)   # to get both name and password\n",
    "\n",
    "user1 = user(\"abc@123\",\"abc@gmail.com\",\"password@123\")\n",
    "# user(user1,\"abc@123\",\"abc@gmail.com\",\"password@123\")\n",
    "user2 = user(\"pqr@123\",\"pqr@gmail.com\",\"password@123\")\n",
    "\n",
    "print(user1)"
   ]
  },
  {
   "cell_type": "code",
   "execution_count": 1,
   "metadata": {},
   "outputs": [
    {
     "name": "stdout",
     "output_type": "stream",
     "text": [
      "abc@123 abc@gmail.com ABC\n",
      "pqr@123 pqr@gmail.com PQR\n",
      "xyz@123 xyz@gmail.com RST\n",
      "rst@123 rst@gmail.com XYZ\n"
     ]
    }
   ],
   "source": [
    "class User:\n",
    "    def __init__(self,username,email,password):\n",
    "        \n",
    "        self.user_name = username\n",
    "        self.email = email\n",
    "        self.password = password\n",
    "        \n",
    "    def login(self,username,password):\n",
    "        if self.user_name == username and self.password == password:\n",
    "            return True\n",
    "        else:\n",
    "            return False\n",
    "        \n",
    "    def add_name(self,name):\n",
    "        self.name = name\n",
    "        \n",
    "    def change_password(self,new_password):\n",
    "        self.password = new_password\n",
    "        \n",
    "    def __str__(self):\n",
    "        return \"{} {}\".format(self.user_name,self.email)\n",
    "    \n",
    "    def get_details(self):\n",
    "        return \"{} {} {}\".format(self.user_name,self.email,self.name)\n",
    "        \n",
    "user1 = User(\"abc@123\",\"abc@gmail.com\",\"password@123\")\n",
    "# User(user1,\"abc@123\",\"abc@gmail.com\",\"password@123\")\n",
    "\n",
    "user2 = User(\"pqr@123\",\"pqr@gmail.com\",\"password@123\")\n",
    "user3 = User(\"xyz@123\",\"xyz@gmail.com\",\"password@123\")\n",
    "user4 = User(\"rst@123\",\"rst@gmail.com\",\"password@123\")\n",
    "\n",
    "user1.add_name(\"ABC\")\n",
    "user2.add_name(\"PQR\")\n",
    "user3.add_name(\"RST\")\n",
    "user4.add_name(\"XYZ\")\n",
    "\n",
    "users = [user1,user2,user3,user4]\n",
    "for user in users:\n",
    "    print(user.get_details())\n",
    "# print(user1)"
   ]
  },
  {
   "cell_type": "code",
   "execution_count": null,
   "metadata": {},
   "outputs": [],
   "source": [
    "\n",
    "Student \n",
    "     name \n",
    "     roll_no \n",
    "     \n",
    "    \n",
    "     add_marks marks = []\n",
    "     cal_result()\n",
    "    \n",
    "    \n",
    "     All students who failed \n",
    "     Topper of the class name,rollno, marks , percernatge"
   ]
  },
  {
   "cell_type": "code",
   "execution_count": 2,
   "metadata": {},
   "outputs": [
    {
     "name": "stdout",
     "output_type": "stream",
     "text": [
      "3 RST 34.6 Fail\n",
      "4 XYZ 39.0 Fail\n",
      "5 PPP 24.8 Fail\n",
      "[(<__main__.Student object at 0x000002617B1FDA88>, 88.2), (<__main__.Student object at 0x000002617B1FDAC8>, 71.2), (<__main__.Student object at 0x000002617B1FDFC8>, 73.0)]\n",
      "(<__main__.Student object at 0x000002617B1FDA88>, 88.2)\n",
      "Topper of the class is 1 ABC 88.2 Pass\n"
     ]
    }
   ],
   "source": [
    "class Student:\n",
    "    def __init__(self,roll_no,name):\n",
    "        self.roll_no = roll_no\n",
    "        self.name = name\n",
    "        \n",
    "    def add_marks(self,marks):\n",
    "        self.marks = marks\n",
    "        \n",
    "    def cal_result(self):\n",
    "        self.per = sum(self.marks.values())/500 * 100\n",
    "        if self.per >= 40:\n",
    "            self.result = \"Pass\"\n",
    "        else:\n",
    "            self.result = \"Fail\"\n",
    "            \n",
    "    def get_details(self):\n",
    "        return \"{} {} {} {}\".format(str(self.roll_no),self.name,round(self.per,2),self.result)\n",
    "    \n",
    "    \n",
    "stud1 = Student(1,\"ABC\")\n",
    "stud2 = Student(2,\"PQR\")\n",
    "stud3 = Student(3,\"RST\")\n",
    "stud4 = Student(4,\"XYZ\")\n",
    "stud5 = Student(5,\"PPP\")\n",
    "stud6 = Student(6,\"TTT\")\n",
    "\n",
    "stud1.add_marks({\"eng\":78,\"maths\":88,\"his\":88,\"sci\":88,\"geo\":99})\n",
    "stud2.add_marks({\"eng\":80,\"maths\":77,\"his\":89,\"sci\":70,\"geo\":40})\n",
    "stud3.add_marks({\"eng\":50,\"maths\":33,\"his\":30,\"sci\":30,\"geo\":30})\n",
    "stud4.add_marks({\"eng\":30,\"maths\":44,\"his\":35,\"sci\":56,\"geo\":30})\n",
    "stud5.add_marks({\"eng\":20,\"maths\":20,\"his\":20,\"sci\":44,\"geo\":20})\n",
    "stud6.add_marks({\"eng\":35,\"maths\":66,\"his\":89,\"sci\":76,\"geo\":99})\n",
    "\n",
    "students = [stud1,stud2,stud3,stud4,stud5,stud6]\n",
    "for student in students:\n",
    "    student.cal_result()\n",
    "    \n",
    "\n",
    "#Failed Students\n",
    "for student in students:\n",
    "    if student.result == \"Fail\":\n",
    "        print(student.get_details())\n",
    "        \n",
    "student_per = [(student,student.per) for student in students if student.result == \"Pass\"]\n",
    "print(student_per)\n",
    "topper = max(student_per,key = lambda t : t[1])\n",
    "print(topper)\n",
    "print(\"Topper of the class is\",topper[0].get_details())"
   ]
  },
  {
   "cell_type": "code",
   "execution_count": null,
   "metadata": {},
   "outputs": [],
   "source": []
  }
 ],
 "metadata": {
  "kernelspec": {
   "display_name": "Python 3",
   "language": "python",
   "name": "python3"
  },
  "language_info": {
   "codemirror_mode": {
    "name": "ipython",
    "version": 3
   },
   "file_extension": ".py",
   "mimetype": "text/x-python",
   "name": "python",
   "nbconvert_exporter": "python",
   "pygments_lexer": "ipython3",
   "version": "3.7.4"
  }
 },
 "nbformat": 4,
 "nbformat_minor": 2
}
