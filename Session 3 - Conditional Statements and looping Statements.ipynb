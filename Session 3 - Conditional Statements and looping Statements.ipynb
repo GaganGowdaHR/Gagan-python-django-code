{
 "cells": [
  {
   "cell_type": "code",
   "execution_count": 5,
   "metadata": {},
   "outputs": [
    {
     "ename": "SyntaxError",
     "evalue": "invalid syntax (<ipython-input-5-eab1122e7a73>, line 1)",
     "output_type": "error",
     "traceback": [
      "\u001b[1;36m  File \u001b[1;32m\"<ipython-input-5-eab1122e7a73>\"\u001b[1;36m, line \u001b[1;32m1\u001b[0m\n\u001b[1;33m    = => assignment\u001b[0m\n\u001b[1;37m    ^\u001b[0m\n\u001b[1;31mSyntaxError\u001b[0m\u001b[1;31m:\u001b[0m invalid syntax\n"
     ]
    },
    {
     "ename": "SyntaxError",
     "evalue": "invalid syntax (<ipython-input-5-eab1122e7a73>, line 1)",
     "output_type": "error",
     "traceback": [
      "\u001b[1;36m  File \u001b[1;32m\"<ipython-input-5-eab1122e7a73>\"\u001b[1;36m, line \u001b[1;32m1\u001b[0m\n\u001b[1;33m    = => assignment\u001b[0m\n\u001b[1;37m    ^\u001b[0m\n\u001b[1;31mSyntaxError\u001b[0m\u001b[1;31m:\u001b[0m invalid syntax\n"
     ]
    }
   ],
   "source": [
    "= => assignment\n",
    "== => comparison"
   ]
  },
  {
   "cell_type": "code",
   "execution_count": null,
   "metadata": {},
   "outputs": [],
   "source": [
    "type()\n",
    "id()"
   ]
  },
  {
   "cell_type": "code",
   "execution_count": null,
   "metadata": {},
   "outputs": [],
   "source": [
    "Immutable : int , float , str , tuple\n",
    "Mutable : list , dict , set"
   ]
  },
  {
   "cell_type": "code",
   "execution_count": null,
   "metadata": {},
   "outputs": [],
   "source": [
    "Conditional Statements if elif else"
   ]
  },
  {
   "cell_type": "code",
   "execution_count": 6,
   "metadata": {},
   "outputs": [
    {
     "ename": "SyntaxError",
     "evalue": "invalid syntax (<ipython-input-6-8316dbad35ad>, line 4)",
     "output_type": "error",
     "traceback": [
      "\u001b[1;36m  File \u001b[1;32m\"<ipython-input-6-8316dbad35ad>\"\u001b[1;36m, line \u001b[1;32m4\u001b[0m\n\u001b[1;33m    Posibilities :\u001b[0m\n\u001b[1;37m                  ^\u001b[0m\n\u001b[1;31mSyntaxError\u001b[0m\u001b[1;31m:\u001b[0m invalid syntax\n"
     ]
    },
    {
     "ename": "SyntaxError",
     "evalue": "invalid syntax (<ipython-input-6-8316dbad35ad>, line 4)",
     "output_type": "error",
     "traceback": [
      "\u001b[1;36m  File \u001b[1;32m\"<ipython-input-6-8316dbad35ad>\"\u001b[1;36m, line \u001b[1;32m4\u001b[0m\n\u001b[1;33m    Posibilities :\u001b[0m\n\u001b[1;37m                  ^\u001b[0m\n\u001b[1;31mSyntaxError\u001b[0m\u001b[1;31m:\u001b[0m invalid syntax\n"
     ]
    }
   ],
   "source": [
    "num1 = 100\n",
    "num2 = 200\n",
    "\n",
    "Posibilities :\n",
    "    \n",
    "# num1 is greater\n",
    "# num2 is greater\n",
    "# both are equal\n",
    "\n",
    "Syntax :\n",
    "    \n",
    "if[condition] => True/False:\n",
    "   print(\"num1 is greater\")\n"
   ]
  },
  {
   "cell_type": "code",
   "execution_count": null,
   "metadata": {},
   "outputs": [],
   "source": [
    "num1 = 200\n",
    "num2 = 200\n",
    "\n",
    "if num1 > num2:\n",
    "    print(\"num1 is greater here\")\n",
    "elif num2 > num1:\n",
    "    print(\"num2 is greater here\")\n",
    "else:\n",
    "    print(\"Both are equal\")"
   ]
  },
  {
   "cell_type": "code",
   "execution_count": null,
   "metadata": {},
   "outputs": [],
   "source": [
    "True/False\n",
    "logical operatotrs\n",
    "comparision\n",
    "membership\n",
    "identity"
   ]
  },
  {
   "cell_type": "code",
   "execution_count": null,
   "metadata": {},
   "outputs": [],
   "source": [
    "char = 'a'\n",
    "# \"Vowel\"/\"Consonent\"\n",
    "if char in 'aeiou':\n",
    "    print(\"Vowel\")\n",
    "else:\n",
    "    print(\"Consonent\")"
   ]
  },
  {
   "cell_type": "code",
   "execution_count": null,
   "metadata": {},
   "outputs": [],
   "source": [
    "if [condition]:\n",
    "    statements\n",
    "elif [condition]:\n",
    "    statement\n",
    "else:"
   ]
  },
  {
   "cell_type": "code",
   "execution_count": null,
   "metadata": {},
   "outputs": [],
   "source": [
    "PEP 8"
   ]
  },
  {
   "cell_type": "code",
   "execution_count": 1,
   "metadata": {},
   "outputs": [
    {
     "name": "stdout",
     "output_type": "stream",
     "text": [
      "Python\n"
     ]
    }
   ],
   "source": [
    "if 0:\n",
    "    print(\"Hii\")\n",
    "else:\n",
    "    print(\"Python\")"
   ]
  },
  {
   "cell_type": "code",
   "execution_count": null,
   "metadata": {},
   "outputs": [],
   "source": [
    "Any non zero value is True in Python\n",
    "Any zero value is False in Python like 0 , None , [] , () , {}"
   ]
  },
  {
   "cell_type": "code",
   "execution_count": 2,
   "metadata": {},
   "outputs": [
    {
     "name": "stdout",
     "output_type": "stream",
     "text": [
      "List is not empty\n"
     ]
    }
   ],
   "source": [
    "l = [10,20,30]\n",
    "if l:\n",
    "    print(\"List is not empty\")\n",
    "else:\n",
    "    print(\"List is empty\")"
   ]
  },
  {
   "cell_type": "code",
   "execution_count": null,
   "metadata": {},
   "outputs": [],
   "source": [
    "PEP 8 => To get the length of the list use len()\n",
    "    cntl + / will comment all"
   ]
  },
  {
   "cell_type": "code",
   "execution_count": 1,
   "metadata": {},
   "outputs": [
    {
     "name": "stdout",
     "output_type": "stream",
     "text": [
      "3\n"
     ]
    }
   ],
   "source": [
    "l = [10,20,30]\n",
    "print(len(l))"
   ]
  },
  {
   "cell_type": "code",
   "execution_count": 2,
   "metadata": {},
   "outputs": [
    {
     "name": "stdout",
     "output_type": "stream",
     "text": [
      "a is present\n"
     ]
    }
   ],
   "source": [
    "s = \"Python sample string\"\n",
    "if 'a' in s:\n",
    "    print(\"a is present\")\n",
    "else:\n",
    "    print(\"a is not present\")"
   ]
  },
  {
   "cell_type": "code",
   "execution_count": null,
   "metadata": {},
   "outputs": [],
   "source": [
    "marks_obtained = 380\n",
    "total_marks = 500\n",
    "# Pass/Fail\n",
    "# 40% => Pass else Fail\n",
    "percentage = (marks_obtained/total_marks)*100\n",
    "\n",
    "if percentage > passing_per:\n",
    "    print(\"Pass\")\n",
    "else\n",
    "    print(\"Fail\")"
   ]
  },
  {
   "cell_type": "code",
   "execution_count": null,
   "metadata": {},
   "outputs": [],
   "source": [
    "cntl + / => Multiline comments"
   ]
  },
  {
   "cell_type": "code",
   "execution_count": 4,
   "metadata": {},
   "outputs": [
    {
     "name": "stdout",
     "output_type": "stream",
     "text": [
      "Odd\n"
     ]
    }
   ],
   "source": [
    "num1 = 45\n",
    "if num1 % 2 == 0:\n",
    "    print(\"Even\")\n",
    "else:\n",
    "    print(\"Odd\")"
   ]
  },
  {
   "cell_type": "code",
   "execution_count": null,
   "metadata": {},
   "outputs": [],
   "source": [
    "currencies = 2000 , 500 , 100 , 50 , 10\n",
    "amount = 5560"
   ]
  },
  {
   "cell_type": "code",
   "execution_count": 2,
   "metadata": {},
   "outputs": [
    {
     "name": "stdout",
     "output_type": "stream",
     "text": [
      "Notes of 2000 are 2\n"
     ]
    }
   ],
   "source": [
    "amount = 5560\n",
    "if amount >= 2000:\n",
    "    print(\"Notes of 2000 are\", amount // 2000)\n",
    "    "
   ]
  },
  {
   "cell_type": "code",
   "execution_count": 5,
   "metadata": {},
   "outputs": [
    {
     "name": "stdout",
     "output_type": "stream",
     "text": [
      "Can not issue notes of 2000\n"
     ]
    }
   ],
   "source": [
    "amount = 1999 \n",
    "if amount >= 2000:\n",
    "    print(\"Notes of 2000 are\", amount // 2000)\n",
    "    amount = amount %n2000\n",
    "else:\n",
    "    print(\"Can not issue notes of 2000\")"
   ]
  },
  {
   "cell_type": "code",
   "execution_count": 6,
   "metadata": {},
   "outputs": [
    {
     "name": "stdout",
     "output_type": "stream",
     "text": [
      "Can not issue notes of 2000\n",
      "Notes of 500 are 3\n",
      "Notes of 100 are 4\n",
      "Notes of 50 are 1\n",
      "Notes of 10 are 4\n"
     ]
    }
   ],
   "source": [
    "amount = 1999\n",
    "if amount >= 2000:\n",
    "    print(\"Notes of 2000 are\", amount // 2000)\n",
    "    amount = amount % 2000\n",
    "else:\n",
    "    print(\"Can not issue notes of 2000\")\n",
    "    \n",
    "if amount >= 500:\n",
    "    print(\"Notes of 500 are\", amount // 500)\n",
    "    amount = amount % 500\n",
    "else:\n",
    "    print(\"Can not issue notes of 500\")\n",
    "    \n",
    "if amount >= 100:\n",
    "    print(\"Notes of 100 are\", amount // 100)\n",
    "    amount = amount % 100\n",
    "else:\n",
    "    print(\"Can not issue notes of 100\")\n",
    "    \n",
    "if amount >= 50:\n",
    "    print(\"Notes of 50 are\", amount // 50)\n",
    "    amount = amount % 50\n",
    "else:\n",
    "    print(\"Can not issue notes of 50\")\n",
    "    \n",
    "if amount >= 10:\n",
    "    print(\"Notes of 10 are\", amount // 10)\n",
    "    amount = amount % 10\n",
    "else:\n",
    "    print(\"Can not issue notes of 10\")"
   ]
  },
  {
   "cell_type": "code",
   "execution_count": null,
   "metadata": {},
   "outputs": [],
   "source": [
    "For note_count"
   ]
  },
  {
   "cell_type": "code",
   "execution_count": 11,
   "metadata": {},
   "outputs": [
    {
     "name": "stdout",
     "output_type": "stream",
     "text": [
      "Notes of 2000 are 2\n",
      "Notes of 500 are 3\n",
      "Can not issue notes of 100\n",
      "Notes of 50 are 1\n",
      "Notes of 10 are 1\n",
      "Total no of notes are 7\n"
     ]
    }
   ],
   "source": [
    "amount = 5560\n",
    "note_count = 0\n",
    "if amount >= 2000:\n",
    "    print(\"Notes of 2000 are\", amount // 2000)\n",
    "    note_count+=amount // 2000\n",
    "    amount = amount % 2000\n",
    "else:\n",
    "    print(\"Can not issue notes of 2000\")\n",
    "    \n",
    "if amount >= 500:\n",
    "    print(\"Notes of 500 are\", amount // 500)\n",
    "    note_count+=amount // 500\n",
    "    amount = amount % 500\n",
    "else:\n",
    "    print(\"Can not issue notes of 500\")\n",
    "    \n",
    "if amount >= 100:\n",
    "    print(\"Notes of 100 are\", amount // 100)\n",
    "    note_count+=amount // 100\n",
    "    amount = amount % 100\n",
    "else:\n",
    "    print(\"Can not issue notes of 100\")\n",
    "    \n",
    "if amount >= 50:\n",
    "    print(\"Notes of 50 are\", amount // 50)\n",
    "    note_count+=amount // 50\n",
    "    amount = amount % 50\n",
    "else:\n",
    "    print(\"Can not issue notes of 50\")\n",
    "    \n",
    "if amount >= 10:\n",
    "    print(\"Notes of 10 are\", amount // 10)\n",
    "    note_count+=amount // 10\n",
    "    amount = amount % 10\n",
    "else:\n",
    "    print(\"Can not issue notes of 10\")\n",
    "    \n",
    "print(\"Total no of notes are\",note_count)"
   ]
  },
  {
   "cell_type": "code",
   "execution_count": null,
   "metadata": {},
   "outputs": [],
   "source": [
    "rating = (1 - 5)\n",
    "tip % of total bill\n",
    "    1 10\n",
    "    2 20 \n",
    "    3 30\n",
    "    4 40\n",
    "    5 50"
   ]
  },
  {
   "cell_type": "code",
   "execution_count": 11,
   "metadata": {},
   "outputs": [
    {
     "name": "stdout",
     "output_type": "stream",
     "text": [
      "1300.0\n"
     ]
    }
   ],
   "source": [
    "rating = 3\n",
    "bill_amt = 1000\n",
    "tip = bill_amt * (rating * 10) / 100\n",
    "final_amt = bill_amt + tip\n",
    "print(final_amt)"
   ]
  },
  {
   "cell_type": "code",
   "execution_count": null,
   "metadata": {},
   "outputs": [],
   "source": [
    "overview"
   ]
  },
  {
   "cell_type": "code",
   "execution_count": 18,
   "metadata": {},
   "outputs": [
    {
     "name": "stdout",
     "output_type": "stream",
     "text": [
      "Java\n"
     ]
    }
   ],
   "source": [
    "if \"Python\" :\n",
    "    print(\"Java\")\n",
    "else:\n",
    "    print(\"Python\")"
   ]
  },
  {
   "cell_type": "code",
   "execution_count": null,
   "metadata": {},
   "outputs": [],
   "source": [
    "0 False None \"\" [] {} ()"
   ]
  },
  {
   "cell_type": "code",
   "execution_count": null,
   "metadata": {},
   "outputs": [],
   "source": [
    "if condition:\n",
    "    statements\n",
    "elif condition:\n",
    "    statements\n",
    "else:\n",
    "    statements"
   ]
  }
 ],
 "metadata": {
  "kernelspec": {
   "display_name": "Python 3",
   "language": "python",
   "name": "python3"
  },
  "language_info": {
   "codemirror_mode": {
    "name": "ipython",
    "version": 3
   },
   "file_extension": ".py",
   "mimetype": "text/x-python",
   "name": "python",
   "nbconvert_exporter": "python",
   "pygments_lexer": "ipython3",
   "version": "3.7.4"
  }
 },
 "nbformat": 4,
 "nbformat_minor": 2
}
