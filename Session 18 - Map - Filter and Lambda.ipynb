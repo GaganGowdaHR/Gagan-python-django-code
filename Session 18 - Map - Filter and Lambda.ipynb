{
 "cells": [
  {
   "cell_type": "code",
   "execution_count": 2,
   "metadata": {},
   "outputs": [],
   "source": [
    "map,filter and lambda"
   ]
  },
  {
   "cell_type": "code",
   "execution_count": null,
   "metadata": {},
   "outputs": [],
   "source": [
    "map(fun obj,iterable datatype) #map is builtin func which takes a func object as 1st args and then iterable datatype"
   ]
  },
  {
   "cell_type": "code",
   "execution_count": 3,
   "metadata": {},
   "outputs": [
    {
     "name": "stdout",
     "output_type": "stream",
     "text": [
      "[100, 400, 900, 1600, 2500, 3600]\n"
     ]
    }
   ],
   "source": [
    "l = [10,20,30,40,50,60]\n",
    "l2 = [value * value for value in l]\n",
    "print(l2)"
   ]
  },
  {
   "cell_type": "code",
   "execution_count": 4,
   "metadata": {},
   "outputs": [
    {
     "name": "stdout",
     "output_type": "stream",
     "text": [
      "[100, 400, 900, 1600, 2500, 3600]\n"
     ]
    }
   ],
   "source": [
    "def sqr(num1):\n",
    "    return num1 * num1\n",
    "\n",
    "l = [10,20,30,40,50,60]\n",
    "r = map(sqr,l)\n",
    "print(list(r))"
   ]
  },
  {
   "cell_type": "code",
   "execution_count": 5,
   "metadata": {},
   "outputs": [
    {
     "name": "stdout",
     "output_type": "stream",
     "text": [
      "<map object at 0x0000018766E93AC8>\n"
     ]
    }
   ],
   "source": [
    "def sqr(num1):\n",
    "    return num1 * num1\n",
    "\n",
    "l = [10,20,30,40,50,60]\n",
    "r = map(sqr,l)\n",
    "print((r))"
   ]
  },
  {
   "cell_type": "code",
   "execution_count": 6,
   "metadata": {},
   "outputs": [
    {
     "name": "stdout",
     "output_type": "stream",
     "text": [
      "100\n",
      "400\n"
     ]
    }
   ],
   "source": [
    "def sqr(num1):\n",
    "    return num1 * num1\n",
    "\n",
    "l = [10,20,30,40,50,60]\n",
    "r = map(sqr,l)\n",
    "#print(r)\n",
    "print(next(r)) # by using next it calculate  next element one by one\n",
    "print(next(r))"
   ]
  },
  {
   "cell_type": "code",
   "execution_count": 7,
   "metadata": {},
   "outputs": [
    {
     "name": "stdout",
     "output_type": "stream",
     "text": [
      "100\n",
      "400\n",
      "900\n",
      "1600\n",
      "2500\n",
      "3600\n"
     ]
    }
   ],
   "source": [
    "def sqr(num1):\n",
    "    return num1 * num1\n",
    "\n",
    "l = [10,20,30,40,50,60]\n",
    "r = map(sqr,l)\n",
    "\n",
    "for value in r:\n",
    "    print(value)"
   ]
  },
  {
   "cell_type": "code",
   "execution_count": 8,
   "metadata": {},
   "outputs": [
    {
     "name": "stdout",
     "output_type": "stream",
     "text": [
      "<map object at 0x0000018766E8D548>\n",
      "0.00019145000000264645\n"
     ]
    }
   ],
   "source": [
    "import timeit\n",
    "t = timeit.timeit(stmt = \"\"\"\n",
    "def sqr(num1):\n",
    "    return num1 * num1\n",
    "\n",
    "r = map(sqr,range(1,10000000))\n",
    "print(r)\n",
    "\"\"\",number = 1)\n",
    "print(t)"
   ]
  },
  {
   "cell_type": "code",
   "execution_count": 9,
   "metadata": {},
   "outputs": [
    {
     "name": "stdout",
     "output_type": "stream",
     "text": [
      "2.0845699620000033\n"
     ]
    }
   ],
   "source": [
    "import timeit\n",
    "t = timeit.timeit(stmt = \"\"\"\n",
    "def sqr(num1):\n",
    "    return num1 * num1\n",
    "\n",
    "r = map(sqr,range(1,10000000))\n",
    "t = list(r) \n",
    "\"\"\",number = 1)   #for calculating actual time\n",
    "print(t)"
   ]
  },
  {
   "cell_type": "code",
   "execution_count": 10,
   "metadata": {},
   "outputs": [
    {
     "name": "stdout",
     "output_type": "stream",
     "text": [
      "[4, 5, 8, 8]\n"
     ]
    }
   ],
   "source": [
    "l = ['abcd','erere','yrwrrqwf','tsrrrsrs']\n",
    "m = map(len,l)\n",
    "print(list(m))"
   ]
  },
  {
   "cell_type": "code",
   "execution_count": 11,
   "metadata": {},
   "outputs": [
    {
     "name": "stdout",
     "output_type": "stream",
     "text": [
      "[111, 222, 333]\n"
     ]
    }
   ],
   "source": [
    "def add(num1,num2,num3):\n",
    "    return num1 + num2 + num3\n",
    "\n",
    "l1 = [10,20,30]\n",
    "l2 = [1,2,3]\n",
    "l3 = [100,200,300]\n",
    "\n",
    "m = map(add,l1,l2,l3)\n",
    "print(list(m))"
   ]
  },
  {
   "cell_type": "code",
   "execution_count": 12,
   "metadata": {},
   "outputs": [
    {
     "data": {
      "text/plain": [
       "filter"
      ]
     },
     "execution_count": 12,
     "metadata": {},
     "output_type": "execute_result"
    }
   ],
   "source": [
    "filter "
   ]
  },
  {
   "cell_type": "code",
   "execution_count": 13,
   "metadata": {},
   "outputs": [
    {
     "name": "stdout",
     "output_type": "stream",
     "text": [
      "[10, 20, 30, 40]\n"
     ]
    }
   ],
   "source": [
    "def even(num1):\n",
    "    if num1 % 2 == 0:\n",
    "        return True\n",
    "    else:\n",
    "        return False\n",
    "l = [10,20,35,30,35,40,45]\n",
    "f = filter(even,l)  #in filter the expecting answer should br true\n",
    "print(list(f))"
   ]
  },
  {
   "cell_type": "code",
   "execution_count": 14,
   "metadata": {},
   "outputs": [
    {
     "name": "stdout",
     "output_type": "stream",
     "text": [
      "[10, 20, 35, 30, 35, 40, 45]\n"
     ]
    }
   ],
   "source": [
    "def even(num1):\n",
    "    if num1 % 2 == 0:\n",
    "        return 10\n",
    "    else:\n",
    "        return 100\n",
    "l = [10,20,35,30,35,40,45]\n",
    "f = filter(even,l)  #in filter the expecting answer should br true\n",
    "print(list(f))"
   ]
  },
  {
   "cell_type": "code",
   "execution_count": 15,
   "metadata": {},
   "outputs": [
    {
     "name": "stdout",
     "output_type": "stream",
     "text": [
      "[10, 20, 30, 40]\n"
     ]
    }
   ],
   "source": [
    "def even(num1):\n",
    "    if num1 % 2 == 0:\n",
    "        return 10\n",
    "    else:\n",
    "        return 0\n",
    "l = [10,20,35,30,35,40,45]\n",
    "f = filter(even,l)  #in filter the expecting answer should br true\n",
    "print(list(f))"
   ]
  },
  {
   "cell_type": "code",
   "execution_count": 16,
   "metadata": {},
   "outputs": [
    {
     "name": "stdout",
     "output_type": "stream",
     "text": [
      "[True, True, False, True, False, True, False]\n"
     ]
    }
   ],
   "source": [
    "def even(num1):\n",
    "    if num1 % 2 == 0:\n",
    "        return True\n",
    "    else:\n",
    "        return False\n",
    "l = [10,20,35,30,35,40,45]\n",
    "f = map(even,l) # in map we cant filter out the elements\n",
    "print(list(f))"
   ]
  },
  {
   "cell_type": "code",
   "execution_count": 19,
   "metadata": {},
   "outputs": [
    {
     "name": "stdout",
     "output_type": "stream",
     "text": [
      "['ad', 'ps', 'xx', 'rr']\n"
     ]
    }
   ],
   "source": [
    "def get_char(val1):\n",
    "    return val1[0]+val1[-1]\n",
    "\n",
    "l = ['abcd','pqrs','xyzx',\"rrr\"]\n",
    "m = map(get_char,l)\n",
    "print(list(m))"
   ]
  },
  {
   "cell_type": "code",
   "execution_count": null,
   "metadata": {},
   "outputs": [],
   "source": [
    "l = [6,45,28,12,35,89]"
   ]
  },
  {
   "cell_type": "code",
   "execution_count": null,
   "metadata": {},
   "outputs": [],
   "source": [
    "perfect_no : 6 : 1 + 2 + 3 = 6"
   ]
  },
  {
   "cell_type": "code",
   "execution_count": 27,
   "metadata": {},
   "outputs": [
    {
     "name": "stdout",
     "output_type": "stream",
     "text": [
      "1\n",
      "2\n",
      "3\n"
     ]
    }
   ],
   "source": [
    "def perfect(num1):\n",
    "    for value in range(1,num1):\n",
    "        if num1 % value == 0:\n",
    "            print(value)\n",
    "num1 = 6 \n",
    "perfect(num1)"
   ]
  },
  {
   "cell_type": "code",
   "execution_count": 32,
   "metadata": {},
   "outputs": [
    {
     "data": {
      "text/plain": [
       "True"
      ]
     },
     "execution_count": 32,
     "metadata": {},
     "output_type": "execute_result"
    }
   ],
   "source": [
    "def perfect(num1):\n",
    "    sum = 0\n",
    "    for value in range(1,num1//2 + 1):\n",
    "        if num1 % value == 0:\n",
    "            sum += value\n",
    "    if sum == num1:\n",
    "        return True\n",
    "    else:\n",
    "        return False\n",
    "num1 = 6\n",
    "perfect(num1)"
   ]
  },
  {
   "cell_type": "code",
   "execution_count": 34,
   "metadata": {},
   "outputs": [
    {
     "name": "stdout",
     "output_type": "stream",
     "text": [
      "[6, 28]\n"
     ]
    }
   ],
   "source": [
    "def perfect(num1):\n",
    "    sum = 0\n",
    "    for value in range(1,num1//2 + 1):\n",
    "        if num1 % value == 0:\n",
    "            sum += value\n",
    "    if sum == num1:\n",
    "        return True\n",
    "    else:\n",
    "        return False\n",
    "\n",
    "l = [6,45,28,12,35,89] #perfect num from the list\n",
    "f = filter(perfect,l)\n",
    "print(list(f))"
   ]
  },
  {
   "cell_type": "code",
   "execution_count": 39,
   "metadata": {},
   "outputs": [
    {
     "name": "stdout",
     "output_type": "stream",
     "text": [
      "[6, 28, 496]\n"
     ]
    }
   ],
   "source": [
    "def perfect(num1):\n",
    "    sum = 0\n",
    "    for value in range(1,num1//2 + 1):\n",
    "        if num1 % value == 0:\n",
    "            sum += value\n",
    "    if sum == num1:\n",
    "        return True\n",
    "    else:\n",
    "        return False\n",
    "\n",
    "l = [6,45,28,12,35,89] \n",
    "f = filter(perfect,range(1,1000)) #perfect num in the basis range\n",
    "print(list(f))"
   ]
  },
  {
   "cell_type": "code",
   "execution_count": null,
   "metadata": {},
   "outputs": [],
   "source": [
    "lambda func : a single line anonymous func that executed in a line "
   ]
  },
  {
   "cell_type": "code",
   "execution_count": null,
   "metadata": {},
   "outputs": [],
   "source": [
    "def add()\n",
    "\n",
    "add()"
   ]
  },
  {
   "cell_type": "code",
   "execution_count": null,
   "metadata": {},
   "outputs": [],
   "source": [
    "lambda arg1,arg2,arg3:single expression"
   ]
  },
  {
   "cell_type": "code",
   "execution_count": 41,
   "metadata": {},
   "outputs": [
    {
     "name": "stdout",
     "output_type": "stream",
     "text": [
      "[100, 400, 900, 1600, 2500, 3600]\n"
     ]
    }
   ],
   "source": [
    "l = [10,20,30,40,50,60]\n",
    "r = map(lambda num1: num1 * num1,l) # we are not transfering control every operation to the func def and comes back to the fun call after the return statement so the execution will be in line\n",
    "print(list(r))"
   ]
  },
  {
   "cell_type": "code",
   "execution_count": 49,
   "metadata": {},
   "outputs": [
    {
     "name": "stdout",
     "output_type": "stream",
     "text": [
      "[111, 222, 333]\n"
     ]
    }
   ],
   "source": [
    "l1 = [1,2,3]\n",
    "l2 = [100,200,300]\n",
    "l3 = [10,20,30]\n",
    "r = map(lambda num1,num2,num3:num1 + num2 + num3 ,l1,l2,l3)\n",
    "print(list(r))"
   ]
  },
  {
   "cell_type": "code",
   "execution_count": null,
   "metadata": {},
   "outputs": [],
   "source": [
    "#convert it to lambda\n",
    "\n",
    "def get_char(val1):\n",
    "    return val1[0]+val1[-1]\n",
    "\n",
    "l = ['abcd','pqrs','xyzx',\"rrr\"]\n",
    "m = map(get_char,l)\n",
    "print(list(m))"
   ]
  },
  {
   "cell_type": "code",
   "execution_count": 53,
   "metadata": {},
   "outputs": [],
   "source": [
    "#convert  it to lambda\n",
    "\n",
    "def even(num1):\n",
    "    if num1 % 2 == 0:\n",
    "        return True\n",
    "    else:\n",
    "        return False\n",
    "l = [10,20,35,30,35,40,45]\n",
    "f = map(even,l)\n",
    "print(list(f))"
   ]
  },
  {
   "cell_type": "code",
   "execution_count": 54,
   "metadata": {},
   "outputs": [
    {
     "name": "stdout",
     "output_type": "stream",
     "text": [
      "[10, 20, 30, 40]\n"
     ]
    }
   ],
   "source": [
    "l = [10,20,35,30,35,40,45]\n",
    "f = filter(lambda num1: num1%2 == 0,l)\n",
    "print(list(f))"
   ]
  },
  {
   "cell_type": "code",
   "execution_count": null,
   "metadata": {},
   "outputs": [],
   "source": [
    "#convert it to lambda\n",
    "\n",
    "def perfect(num1):\n",
    "    sum = 0\n",
    "    for value in range(1,num1//2 + 1):\n",
    "        if num1 % value == 0:\n",
    "            sum += value\n",
    "    if sum == num1:\n",
    "        return True\n",
    "    else:\n",
    "        return False\n",
    "\n",
    "l = [6,45,28,12,35,89] #perfect num from the list\n",
    "f = filter(perfect,l)\n",
    "print(list(f))"
   ]
  },
  {
   "cell_type": "code",
   "execution_count": 55,
   "metadata": {},
   "outputs": [
    {
     "name": "stdout",
     "output_type": "stream",
     "text": [
      "True\n"
     ]
    }
   ],
   "source": [
    "char = \"a\"\n",
    "f = lambda value: value in 'aeiou'\n",
    "print(f(char))"
   ]
  },
  {
   "cell_type": "code",
   "execution_count": 57,
   "metadata": {},
   "outputs": [
    {
     "name": "stdout",
     "output_type": "stream",
     "text": [
      "[(10, 50), (20, 40), (30, 30), (40, 20), (50, 10)]\n"
     ]
    }
   ],
   "source": [
    "d = {10:50,20:40,30:30,40:20,50:10}\n",
    "print(sorted(d.items()))"
   ]
  },
  {
   "cell_type": "code",
   "execution_count": 58,
   "metadata": {
    "scrolled": true
   },
   "outputs": [
    {
     "name": "stdout",
     "output_type": "stream",
     "text": [
      "[(50, 10), (40, 20), (30, 30), (20, 40), (10, 50)]\n"
     ]
    }
   ],
   "source": [
    "def get_val(t):\n",
    "    return t[1]\n",
    "\n",
    "\n",
    "d = {10:50,20:40,30:30,40:20,50:10} # sorted on the basis of key\n",
    "print(sorted(d.items(),key=get_val))"
   ]
  },
  {
   "cell_type": "code",
   "execution_count": 59,
   "metadata": {},
   "outputs": [
    {
     "name": "stdout",
     "output_type": "stream",
     "text": [
      "[(50, 10), (40, 20), (30, 30), (20, 40), (10, 50)]\n"
     ]
    }
   ],
   "source": [
    "\n",
    "d = {10:50,20:40,30:30,40:20,50:10} # by using lambda\n",
    "print(sorted(d.items(),key=lambda t:t[1]))"
   ]
  },
  {
   "cell_type": "code",
   "execution_count": 61,
   "metadata": {},
   "outputs": [],
   "source": [
    "overview :\n",
    "    \n",
    "map(func obj,iterable) pik one element and pass it to func\n",
    "r =map(func obj,iterable) => return type return me a map obj\n",
    "\n",
    "evaluate value of the map oject using\n",
    "1.list\n",
    "2.next\n",
    "3.for loop\n",
    "\n",
    "filter(func obj,iterable) \n",
    "r = filter(func obj,iterable) => filter obj\n",
    "\n",
    "lambda we specify any arguments like arg1,arg2,arg3:statements"
   ]
  },
  {
   "cell_type": "code",
   "execution_count": null,
   "metadata": {},
   "outputs": [],
   "source": [
    ">"
   ]
  }
 ],
 "metadata": {
  "kernelspec": {
   "display_name": "Python 3",
   "language": "python",
   "name": "python3"
  },
  "language_info": {
   "codemirror_mode": {
    "name": "ipython",
    "version": 3
   },
   "file_extension": ".py",
   "mimetype": "text/x-python",
   "name": "python",
   "nbconvert_exporter": "python",
   "pygments_lexer": "ipython3",
   "version": "3.7.4"
  }
 },
 "nbformat": 4,
 "nbformat_minor": 2
}
