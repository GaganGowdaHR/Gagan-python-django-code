{
 "cells": [
  {
   "cell_type": "code",
   "execution_count": null,
   "metadata": {},
   "outputs": [],
   "source": [
    "Mutable :\n",
    "    list\n",
    "    set\n",
    "    dict\n",
    "Immutable:\n",
    "    int \n",
    "    float\n",
    "    str\n",
    "    tuple"
   ]
  },
  {
   "cell_type": "code",
   "execution_count": null,
   "metadata": {},
   "outputs": [],
   "source": [
    "id()\n",
    "type()"
   ]
  },
  {
   "cell_type": "code",
   "execution_count": null,
   "metadata": {},
   "outputs": [],
   "source": [
    "None , 0 , False , () , [] , {}"
   ]
  },
  {
   "cell_type": "code",
   "execution_count": 2,
   "metadata": {},
   "outputs": [
    {
     "name": "stdout",
     "output_type": "stream",
     "text": [
      "hello\n"
     ]
    }
   ],
   "source": [
    "if None:\n",
    "    print(\"hi\")\n",
    "else:\n",
    "    print(\"hello\")"
   ]
  },
  {
   "cell_type": "code",
   "execution_count": null,
   "metadata": {},
   "outputs": [],
   "source": [
    "Looping Statements : For Loop\n",
    "                     While Loop"
   ]
  },
  {
   "cell_type": "code",
   "execution_count": null,
   "metadata": {},
   "outputs": [],
   "source": [
    "marks_obtained = 380\n",
    "total_marks = 500\n",
    "# Pass/Fail\n",
    "# 40% => Pass else Fail\n",
    "percentage = (marks_obtained/total_marks)*100\n",
    "\n",
    "if percentage > passing_per:\n",
    "    print(\"Pass\")\n",
    "else\n",
    "    print(\"Fail\")"
   ]
  },
  {
   "cell_type": "code",
   "execution_count": null,
   "metadata": {},
   "outputs": [],
   "source": [
    "l = [380,400,450,110,490]"
   ]
  },
  {
   "cell_type": "code",
   "execution_count": null,
   "metadata": {},
   "outputs": [],
   "source": [
    "iterables datatypes :\n",
    "    str\n",
    "    list\n",
    "    tuple\n",
    "    dict\n",
    "Non iterables datatypes :\n",
    "    int \n",
    "    float"
   ]
  },
  {
   "cell_type": "code",
   "execution_count": null,
   "metadata": {},
   "outputs": [],
   "source": [
    "l = [10,20,30,40,50]\n",
    "for [userdefined_variable] in [iterable_datatype]:\n",
    "    [statements]\n",
    "[out of for loop]"
   ]
  },
  {
   "cell_type": "code",
   "execution_count": 4,
   "metadata": {},
   "outputs": [
    {
     "name": "stdout",
     "output_type": "stream",
     "text": [
      "10\n",
      "20\n",
      "30\n",
      "40\n",
      "50\n"
     ]
    }
   ],
   "source": [
    "l = [10,20,30,40,50]\n",
    "\n",
    "for value in l:\n",
    "    print(value)"
   ]
  },
  {
   "cell_type": "code",
   "execution_count": 5,
   "metadata": {},
   "outputs": [
    {
     "name": "stdout",
     "output_type": "stream",
     "text": [
      "p\n",
      "y\n",
      "t\n",
      "h\n",
      "o\n",
      "n\n",
      " \n",
      "i\n",
      "s\n",
      " \n",
      "e\n",
      "a\n",
      "s\n",
      "y\n",
      " \n",
      "t\n",
      "o\n",
      " \n",
      "l\n",
      "e\n",
      "a\n",
      "r\n",
      "n\n"
     ]
    }
   ],
   "source": [
    "str = \"python is easy to learn\"\n",
    "\n",
    "for value in str:\n",
    "    print(value)"
   ]
  },
  {
   "cell_type": "code",
   "execution_count": 11,
   "metadata": {},
   "outputs": [
    {
     "name": "stdout",
     "output_type": "stream",
     "text": [
      "email\n",
      "name\n",
      "id\n"
     ]
    }
   ],
   "source": [
    "dict = {\"email\":\"abc@gmail.com\",\"name\":\"abc\",\"id\":\"100\"}\n",
    "\n",
    "for x in dict:\n",
    "        print(x)"
   ]
  },
  {
   "cell_type": "code",
   "execution_count": 23,
   "metadata": {},
   "outputs": [
    {
     "name": "stdout",
     "output_type": "stream",
     "text": [
      "150\n"
     ]
    }
   ],
   "source": [
    "l = [10,20,30,40,50]\n",
    "# sum = 0\n",
    "# num1 = 10\n",
    "# sum = 0 + 10 = 10\n",
    "\n",
    "# num2 = 20\n",
    "# sum = 10 + 20 = 30\n",
    "\n",
    "# num3 = 30\n",
    "# sum = 30 + 30 = 60\n",
    "\n",
    "# num4 = 40 \n",
    "# sum = 60 + 40 = 100\n",
    "\n",
    "# num5 = 50 \n",
    "# sum = 100 + 50 = 150\n",
    "\n",
    "sum=0\n",
    "for value in l:\n",
    "    sum = sum + value\n",
    "print(sum)"
   ]
  },
  {
   "cell_type": "code",
   "execution_count": null,
   "metadata": {},
   "outputs": [],
   "source": [
    "range function\n",
    "range(10) 0.....9\n",
    "range(10,25) 10...24\n",
    "range(10,50,5) 10.....45"
   ]
  },
  {
   "cell_type": "code",
   "execution_count": 24,
   "metadata": {},
   "outputs": [
    {
     "name": "stdout",
     "output_type": "stream",
     "text": [
      "0\n",
      "1\n",
      "2\n",
      "3\n",
      "4\n",
      "5\n",
      "6\n",
      "7\n",
      "8\n",
      "9\n"
     ]
    }
   ],
   "source": [
    "for value in range(10):\n",
    "    print(value)"
   ]
  },
  {
   "cell_type": "code",
   "execution_count": 25,
   "metadata": {},
   "outputs": [
    {
     "name": "stdout",
     "output_type": "stream",
     "text": [
      "[0, 1, 2, 3, 4, 5, 6, 7, 8, 9, 10, 11, 12, 13, 14, 15, 16, 17, 18, 19, 20, 21, 22, 23, 24, 25, 26, 27, 28, 29, 30, 31, 32, 33, 34, 35, 36, 37, 38, 39, 40, 41, 42, 43, 44, 45, 46, 47, 48, 49]\n"
     ]
    }
   ],
   "source": [
    "print(list(range(50)))"
   ]
  },
  {
   "cell_type": "code",
   "execution_count": 26,
   "metadata": {},
   "outputs": [
    {
     "name": "stdout",
     "output_type": "stream",
     "text": [
      "0\n",
      "1\n",
      "2\n",
      "3\n",
      "4\n",
      "5\n",
      "6\n",
      "7\n",
      "8\n",
      "9\n"
     ]
    }
   ],
   "source": [
    "num1 = range(10)\n",
    "\n",
    "for value in num1:\n",
    "    print(value)"
   ]
  },
  {
   "cell_type": "code",
   "execution_count": null,
   "metadata": {},
   "outputs": [],
   "source": [
    "pass : do nothing\n",
    "continue : will jump to next itiration and not executable\n",
    "break : helps to come out or break the loop based on certain conditions"
   ]
  },
  {
   "cell_type": "code",
   "execution_count": 35,
   "metadata": {},
   "outputs": [
    {
     "name": "stdout",
     "output_type": "stream",
     "text": [
      "4 14\n"
     ]
    }
   ],
   "source": [
    "s = \"Python Sample String\"\n",
    "vowel_count = 0\n",
    "consonent_count = 0\n",
    "\n",
    "for value in s:\n",
    "    if value in \"AEIOUaeiou\":\n",
    "        vowel_count+=1\n",
    "    elif value == \" \":\n",
    "        continue\n",
    "        print(\"lets check if i see this in output\")\n",
    "    else:\n",
    "        consonent_count+= 1\n",
    "        \n",
    "print(vowel_count,consonent_count)"
   ]
  },
  {
   "cell_type": "code",
   "execution_count": 36,
   "metadata": {},
   "outputs": [
    {
     "name": "stdout",
     "output_type": "stream",
     "text": [
      "lets check if i see this in output\n",
      "lets check if i see this in output\n",
      "4 14\n"
     ]
    }
   ],
   "source": [
    "s = \"Python Sample String\"\n",
    "vowel_count = 0\n",
    "consonent_count = 0\n",
    "\n",
    "for value in s:\n",
    "    if value in \"AEIOUaeiou\":\n",
    "        vowel_count+=1\n",
    "    elif value == \" \":\n",
    "        pass\n",
    "        print(\"lets check if i see this in output\")\n",
    "    else:\n",
    "        consonent_count+= 1\n",
    "        \n",
    "print(vowel_count,consonent_count)"
   ]
  },
  {
   "cell_type": "code",
   "execution_count": 37,
   "metadata": {},
   "outputs": [
    {
     "ename": "SyntaxError",
     "evalue": "invalid syntax (<ipython-input-37-2a4c8ca2bca1>, line 1)",
     "output_type": "error",
     "traceback": [
      "\u001b[1;36m  File \u001b[1;32m\"<ipython-input-37-2a4c8ca2bca1>\"\u001b[1;36m, line \u001b[1;32m1\u001b[0m\n\u001b[1;33m    if 100\u001b[0m\n\u001b[1;37m          ^\u001b[0m\n\u001b[1;31mSyntaxError\u001b[0m\u001b[1;31m:\u001b[0m invalid syntax\n"
     ]
    }
   ],
   "source": [
    "if 100\n",
    " print(\"hi\")\n",
    "else:\n",
    "    print(\"hello\")"
   ]
  },
  {
   "cell_type": "code",
   "execution_count": 40,
   "metadata": {},
   "outputs": [
    {
     "name": "stdout",
     "output_type": "stream",
     "text": [
      "hi\n",
      "hello\n"
     ]
    }
   ],
   "source": [
    "if 100:\n",
    " print(\"hi\")\n",
    "else:\n",
    "    pass\n",
    "print(\"hello\")"
   ]
  },
  {
   "cell_type": "code",
   "execution_count": 47,
   "metadata": {},
   "outputs": [
    {
     "name": "stdout",
     "output_type": "stream",
     "text": [
      "10\n",
      "20\n",
      "30\n",
      "Number is Negative -1\n",
      "100\n",
      "20\n",
      "40\n",
      "60\n"
     ]
    }
   ],
   "source": [
    "l = [10,20,30,-1,100,20,40,60]\n",
    "for value in l:\n",
    "    if value < 0:\n",
    "        print(\"Number is Negative\",value)\n",
    "    else:\n",
    "        print(value)"
   ]
  },
  {
   "cell_type": "code",
   "execution_count": 48,
   "metadata": {},
   "outputs": [
    {
     "name": "stdout",
     "output_type": "stream",
     "text": [
      "10\n",
      "20\n",
      "30\n",
      "Number is Negative -1\n"
     ]
    }
   ],
   "source": [
    "l = [10,20,30,-1,100,20,40,60]\n",
    "for value in l:\n",
    "    if value < 0:\n",
    "        print(\"Number is Negative\",value)\n",
    "        break\n",
    "    else:\n",
    "        print(value)"
   ]
  },
  {
   "cell_type": "code",
   "execution_count": 49,
   "metadata": {},
   "outputs": [
    {
     "name": "stdout",
     "output_type": "stream",
     "text": [
      "True\n"
     ]
    }
   ],
   "source": [
    "l = [1,2,3,4,5]\n",
    "print(5 in l)"
   ]
  },
  {
   "cell_type": "code",
   "execution_count": 61,
   "metadata": {},
   "outputs": [
    {
     "name": "stdout",
     "output_type": "stream",
     "text": [
      "key is not present\n"
     ]
    }
   ],
   "source": [
    "nums = [10,20,30,40,50,60,70,80]\n",
    "key = 500\n",
    "flag = False\n",
    "for value in nums:\n",
    "    if value == key:\n",
    "        flag = True\n",
    "        break\n",
    "        \n",
    "if flag == True:\n",
    "    print(\"key is present\")\n",
    "else:\n",
    "    print(\"key is not present\")"
   ]
  },
  {
   "cell_type": "code",
   "execution_count": null,
   "metadata": {},
   "outputs": [],
   "source": [
    "flag variable is used to check element exist ot not"
   ]
  },
  {
   "cell_type": "code",
   "execution_count": 72,
   "metadata": {},
   "outputs": [
    {
     "name": "stdout",
     "output_type": "stream",
     "text": [
      "key is present\n"
     ]
    }
   ],
   "source": [
    "nums = [10,20,30,40,50,60,70,80]\n",
    "key = 80\n",
    "\n",
    "for value in nums:\n",
    "    if value == key:\n",
    "        print(\"key is present\")\n",
    "        break\n",
    "else:\n",
    "    print(\"key is not present\")\n",
    "    "
   ]
  },
  {
   "cell_type": "code",
   "execution_count": null,
   "metadata": {},
   "outputs": [],
   "source": [
    "enumerate => gives us index , value"
   ]
  },
  {
   "cell_type": "code",
   "execution_count": 73,
   "metadata": {},
   "outputs": [
    {
     "name": "stdout",
     "output_type": "stream",
     "text": [
      "0 10\n",
      "1 20\n",
      "2 30\n",
      "3 40\n",
      "4 50\n",
      "5 60\n",
      "6 70\n",
      "7 80\n"
     ]
    }
   ],
   "source": [
    "l = [10,20,30,40,50,60,70,80]\n",
    "for index,value in enumerate(l):\n",
    "    print(index,value)"
   ]
  },
  {
   "cell_type": "code",
   "execution_count": 75,
   "metadata": {},
   "outputs": [
    {
     "name": "stdout",
     "output_type": "stream",
     "text": [
      "key is present at index: 7\n"
     ]
    }
   ],
   "source": [
    "nums = [10,20,30,40,50,60,70,80]\n",
    "key = 80\n",
    "\n",
    "for index,value in enumerate(nums):\n",
    "    if value == key:\n",
    "        print(\"key is present at index:\",index)\n",
    "        break\n",
    "else:\n",
    "    print(\"key is not present\")"
   ]
  },
  {
   "cell_type": "code",
   "execution_count": null,
   "metadata": {},
   "outputs": [],
   "source": [
    "num1 = 6\n",
    "# perfect no or not\n",
    "# 1 + 2 + 3 = 6\n",
    "\n",
    "Possible divisors = 1 2 3 4 5 \n",
    "Divisors = 1 2 3 \n",
    "sum = \n"
   ]
  },
  {
   "cell_type": "code",
   "execution_count": 2,
   "metadata": {},
   "outputs": [
    {
     "name": "stdout",
     "output_type": "stream",
     "text": [
      "1\n",
      "2\n",
      "3\n",
      "4\n",
      "5\n"
     ]
    }
   ],
   "source": [
    "num1 = 6\n",
    "\n",
    "for value in range(1,num1):\n",
    "    print(value)"
   ]
  },
  {
   "cell_type": "code",
   "execution_count": 3,
   "metadata": {},
   "outputs": [
    {
     "name": "stdout",
     "output_type": "stream",
     "text": [
      "1\n",
      "2\n",
      "3\n"
     ]
    }
   ],
   "source": [
    "num1 = 6\n",
    "\n",
    "for value in range(1,num1):\n",
    "    if  num1 % value == 0:\n",
    "        print(value)"
   ]
  },
  {
   "cell_type": "code",
   "execution_count": 4,
   "metadata": {},
   "outputs": [
    {
     "name": "stdout",
     "output_type": "stream",
     "text": [
      "Perfect number\n"
     ]
    }
   ],
   "source": [
    "num1 = 6\n",
    "sum = 0\n",
    "for value in range(1,num1):\n",
    "    if num1 % value == 0:\n",
    "        sum = sum + value\n",
    "if sum == num1:\n",
    "    print(\"Perfect number\")\n",
    "else:\n",
    "    print(\"Not a Perfect number\")\n",
    "    "
   ]
  },
  {
   "cell_type": "code",
   "execution_count": 7,
   "metadata": {},
   "outputs": [
    {
     "name": "stdout",
     "output_type": "stream",
     "text": [
      "1\n",
      "2\n",
      "3\n",
      "4\n",
      "5\n",
      "6\n",
      "7\n",
      "8\n",
      "9\n",
      "10\n",
      "11\n",
      "12\n",
      "13\n",
      "14\n",
      "Perfect number\n"
     ]
    }
   ],
   "source": [
    "num1 = 28\n",
    "sum = 0\n",
    "for value in range(1,num1 // 2 + 1):\n",
    "    print(value)\n",
    "    if num1 % value == 0:\n",
    "        sum = sum + value\n",
    "if sum == num1:\n",
    "    print(\"Perfect number\")\n",
    "else:\n",
    "    print(\"Not a Perfect number\")\n",
    "    "
   ]
  },
  {
   "cell_type": "code",
   "execution_count": 9,
   "metadata": {},
   "outputs": [
    {
     "name": "stdout",
     "output_type": "stream",
     "text": [
      "1 2 3 4 5 6 7 8 9 10 2 4 6 8 10 12 14 16 18 20 3 6 9 12 15 18 21 24 27 30 4 8 12 16 20 24 28 32 36 40 5 10 15 20 25 30 35 40 45 50 "
     ]
    }
   ],
   "source": [
    "for value1 in range(1,6):\n",
    "    for value2 in range(1,11):\n",
    "        print(value1 * value2,end = \" \")"
   ]
  },
  {
   "cell_type": "code",
   "execution_count": 11,
   "metadata": {},
   "outputs": [
    {
     "name": "stdout",
     "output_type": "stream",
     "text": [
      "1 2 3 4 5 6 7 8 9 10 \n",
      "\n",
      "2 4 6 8 10 12 14 16 18 20 \n",
      "\n",
      "3 6 9 12 15 18 21 24 27 30 \n",
      "\n",
      "4 8 12 16 20 24 28 32 36 40 \n",
      "\n",
      "5 10 15 20 25 30 35 40 45 50 \n",
      "\n"
     ]
    }
   ],
   "source": [
    "for value1 in range(1,6):\n",
    "    for value2 in range(1,11):\n",
    "        print(value1 * value2,end = \" \")\n",
    "    print(\"\\n\")"
   ]
  },
  {
   "cell_type": "code",
   "execution_count": null,
   "metadata": {},
   "outputs": [],
   "source": [
    "Overview:"
   ]
  },
  {
   "cell_type": "code",
   "execution_count": null,
   "metadata": {},
   "outputs": [],
   "source": [
    "for loop syntax\n",
    "for userdefined_variables"
   ]
  },
  {
   "cell_type": "code",
   "execution_count": 12,
   "metadata": {},
   "outputs": [
    {
     "name": "stdout",
     "output_type": "stream",
     "text": [
      "10 20 Python\n"
     ]
    }
   ],
   "source": [
    "print(10,20,\"Python\")"
   ]
  },
  {
   "cell_type": "code",
   "execution_count": 14,
   "metadata": {},
   "outputs": [
    {
     "name": "stdout",
     "output_type": "stream",
     "text": [
      "10,20,Python\n",
      "Hi\n"
     ]
    }
   ],
   "source": [
    "print(10,20,\"Python\",sep = \",\")\n",
    "print(\"Hi\")"
   ]
  },
  {
   "cell_type": "code",
   "execution_count": 16,
   "metadata": {},
   "outputs": [
    {
     "name": "stdout",
     "output_type": "stream",
     "text": [
      "10,20,Python Hi Java\n"
     ]
    }
   ],
   "source": [
    "print(10,20,\"Python\",sep = \",\",end = \" \")\n",
    "print(\"Hi\",end = \" \")\n",
    "print(\"Java\")"
   ]
  },
  {
   "cell_type": "code",
   "execution_count": null,
   "metadata": {},
   "outputs": [],
   "source": [
    "while => True/False:\n",
    "    statements"
   ]
  },
  {
   "cell_type": "code",
   "execution_count": 18,
   "metadata": {},
   "outputs": [
    {
     "name": "stdout",
     "output_type": "stream",
     "text": [
      "120\n"
     ]
    }
   ],
   "source": [
    "num1 = 5\n",
    "result = 1\n",
    "while num1 > 1:\n",
    "    result = result * num1\n",
    "    num1 = num1 - 1\n",
    "print(result)"
   ]
  },
  {
   "cell_type": "code",
   "execution_count": null,
   "metadata": {},
   "outputs": [],
   "source": [
    "while 100:\n",
    "    print(100)"
   ]
  },
  {
   "cell_type": "code",
   "execution_count": null,
   "metadata": {},
   "outputs": [],
   "source": []
  }
 ],
 "metadata": {
  "kernelspec": {
   "display_name": "Python 3",
   "language": "python",
   "name": "python3"
  },
  "language_info": {
   "codemirror_mode": {
    "name": "ipython",
    "version": 3
   },
   "file_extension": ".py",
   "mimetype": "text/x-python",
   "name": "python",
   "nbconvert_exporter": "python",
   "pygments_lexer": "ipython3",
   "version": "3.7.4"
  }
 },
 "nbformat": 4,
 "nbformat_minor": 2
}
