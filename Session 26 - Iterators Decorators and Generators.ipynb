{
 "cells": [
  {
   "cell_type": "code",
   "execution_count": 1,
   "metadata": {},
   "outputs": [
    {
     "name": "stdout",
     "output_type": "stream",
     "text": [
      "[100, 400, 900, 1600, 2500, 3600]\n"
     ]
    }
   ],
   "source": [
    "l = [10,20,30,40,50,60]\n",
    "m = map(lambda num1:num1 * num1,l)\n",
    "# print(next(m))\n",
    "# print(next(m))\n",
    "print(list(m))"
   ]
  },
  {
   "cell_type": "code",
   "execution_count": null,
   "metadata": {},
   "outputs": [],
   "source": [
    "Iterator :\n",
    "    \n",
    "__iter__\n",
    "__next__\n"
   ]
  },
  {
   "cell_type": "code",
   "execution_count": 2,
   "metadata": {},
   "outputs": [
    {
     "name": "stdout",
     "output_type": "stream",
     "text": [
      "['__add__', '__class__', '__contains__', '__delattr__', '__delitem__', '__dir__', '__doc__', '__eq__', '__format__', '__ge__', '__getattribute__', '__getitem__', '__gt__', '__hash__', '__iadd__', '__imul__', '__init__', '__init_subclass__', '__iter__', '__le__', '__len__', '__lt__', '__mul__', '__ne__', '__new__', '__reduce__', '__reduce_ex__', '__repr__', '__reversed__', '__rmul__', '__setattr__', '__setitem__', '__sizeof__', '__str__', '__subclasshook__', 'append', 'clear', 'copy', 'count', 'extend', 'index', 'insert', 'pop', 'remove', 'reverse', 'sort']\n"
     ]
    }
   ],
   "source": [
    "print(dir(list))"
   ]
  },
  {
   "cell_type": "code",
   "execution_count": 3,
   "metadata": {},
   "outputs": [
    {
     "name": "stdout",
     "output_type": "stream",
     "text": [
      "<list_iterator object at 0x0000025C41E9FAC8>\n"
     ]
    }
   ],
   "source": [
    "l = [10,20,30,40,50] \n",
    "\n",
    "i = iter(l)\n",
    "print(i)\n",
    "# print(next(i))\n",
    "# print(next(i))\n",
    "# print(next(i))\n",
    "# print(next(i))\n",
    "# print(next(i))\n",
    "# print(next(i))\n",
    "\n",
    "# for value in i:\n",
    "#     print(value)\n",
    "    \n",
    "# for value in i:\n",
    "#     print(value)\n",
    "\n",
    "# for index in range(5):\n",
    "#     print(next(i))\n",
    "    \n",
    "# for value in i:\n",
    "#     print(value)"
   ]
  },
  {
   "cell_type": "code",
   "execution_count": 4,
   "metadata": {},
   "outputs": [],
   "source": [
    "import itertools"
   ]
  },
  {
   "cell_type": "code",
   "execution_count": 5,
   "metadata": {},
   "outputs": [
    {
     "name": "stdout",
     "output_type": "stream",
     "text": [
      "10\n",
      "20\n",
      "30\n",
      "40\n",
      "50\n",
      "P\n",
      "y\n",
      "t\n",
      "h\n",
      "o\n",
      "n\n",
      ",\n",
      "J\n",
      "a\n",
      "v\n",
      "a\n",
      ",\n",
      "C\n",
      "10\n",
      "20\n",
      "30\n",
      "40\n",
      "50\n",
      "60\n",
      "0\n",
      "1\n",
      "2\n",
      "3\n",
      "4\n"
     ]
    }
   ],
   "source": [
    "l1 = [10,20,30,40,50]\n",
    "s1 = \"Python,Java,C\"\n",
    "t1 = (10,20,30,40,50,60)\n",
    "r1 = range(5)\n",
    "\n",
    "i = itertools.chain(l1,s1,t1,r1)\n",
    "print(next(i))\n",
    "print(next(i))\n",
    "for value in i:\n",
    "    print(value)\n",
    "    \n",
    "for value in i:\n",
    "    print(value)"
   ]
  },
  {
   "cell_type": "code",
   "execution_count": 6,
   "metadata": {},
   "outputs": [
    {
     "name": "stdout",
     "output_type": "stream",
     "text": [
      "30\n",
      "40\n",
      "50\n",
      "P\n"
     ]
    }
   ],
   "source": [
    "l1 = [10,20,30,40,50]\n",
    "s1 = \"Python,Java,C\"\n",
    "t1 = (10,20,30,40,50,60)\n",
    "r1 = range(5)\n",
    "\n",
    "i = itertools.chain(l1,s1,t1,r1)\n",
    "\n",
    "for value in itertools.islice(i,2,6):\n",
    "    print(value)"
   ]
  },
  {
   "cell_type": "code",
   "execution_count": 7,
   "metadata": {},
   "outputs": [
    {
     "name": "stdout",
     "output_type": "stream",
     "text": [
      "10\n",
      "20\n",
      "30\n",
      "40\n",
      "50\n",
      "P\n",
      "y\n",
      "t\n",
      "h\n",
      "o\n",
      "n\n",
      ",\n",
      "J\n",
      "a\n",
      "v\n",
      "a\n",
      ",\n",
      "C\n",
      "10\n",
      "20\n",
      "30\n",
      "40\n",
      "50\n",
      "60\n",
      "0\n",
      "1\n",
      "2\n",
      "3\n",
      "4\n",
      "10\n",
      "20\n",
      "30\n",
      "40\n",
      "50\n",
      "P\n",
      "y\n",
      "t\n",
      "h\n",
      "o\n",
      "n\n",
      ",\n",
      "J\n",
      "a\n",
      "v\n",
      "a\n",
      ",\n",
      "C\n",
      "10\n",
      "20\n",
      "30\n",
      "40\n",
      "50\n",
      "60\n",
      "0\n",
      "1\n",
      "2\n",
      "3\n",
      "4\n"
     ]
    }
   ],
   "source": [
    "l1 = [10,20,30,40,50]\n",
    "s1 = \"Python,Java,C\"\n",
    "t1 = (10,20,30,40,50,60)\n",
    "r1 = range(5)\n",
    "\n",
    "i = itertools.chain(l1,s1,t1,r1)\n",
    "print(next(i))\n",
    "print(next(i))\n",
    "for value in i:\n",
    "    print(value)\n",
    "    \n",
    "j = itertools.chain(l1,s1,t1,r1)\n",
    "for value in j:\n",
    "    print(value)"
   ]
  },
  {
   "cell_type": "code",
   "execution_count": 8,
   "metadata": {},
   "outputs": [
    {
     "name": "stdout",
     "output_type": "stream",
     "text": [
      "(<itertools._tee object at 0x0000025C41E9FAC8>, <itertools._tee object at 0x0000025C41EA2FC8>, <itertools._tee object at 0x0000025C41EA2D88>, <itertools._tee object at 0x0000025C41EA2F88>, <itertools._tee object at 0x0000025C41EA2F08>)\n",
      "10\n",
      "20\n",
      "30\n",
      "40\n",
      "50\n",
      "P\n",
      "y\n",
      "t\n",
      "h\n",
      "o\n",
      "n\n",
      ",\n",
      "J\n",
      "a\n",
      "v\n",
      "a\n",
      ",\n",
      "C\n",
      "10\n",
      "20\n",
      "30\n",
      "40\n",
      "50\n",
      "60\n",
      "0\n",
      "1\n",
      "2\n",
      "3\n",
      "4\n",
      "10\n",
      "20\n",
      "30\n",
      "40\n",
      "50\n",
      "P\n",
      "y\n",
      "t\n",
      "h\n",
      "o\n",
      "n\n",
      ",\n",
      "J\n",
      "a\n",
      "v\n",
      "a\n",
      ",\n",
      "C\n",
      "10\n",
      "20\n",
      "30\n",
      "40\n",
      "50\n",
      "60\n",
      "0\n",
      "1\n",
      "2\n",
      "3\n",
      "4\n"
     ]
    }
   ],
   "source": [
    "l1 = [10,20,30,40,50]\n",
    "s1 = \"Python,Java,C\"\n",
    "t1 = (10,20,30,40,50,60)\n",
    "r1 = range(5)\n",
    "\n",
    "i = itertools.chain(l1,s1,t1,r1)\n",
    "t = itertools.tee(i,5)\n",
    "print(t)\n",
    "\n",
    "for value in t[0]:\n",
    "    print(value)\n",
    "    \n",
    "for value in t[1]:\n",
    "    print(value)"
   ]
  },
  {
   "cell_type": "code",
   "execution_count": 9,
   "metadata": {},
   "outputs": [
    {
     "name": "stdout",
     "output_type": "stream",
     "text": [
      "(10, 20)\n",
      "(10, 30)\n",
      "(10, 40)\n",
      "(10, 50)\n",
      "(20, 30)\n",
      "(20, 40)\n",
      "(20, 50)\n",
      "(30, 40)\n",
      "(30, 50)\n",
      "(40, 50)\n"
     ]
    }
   ],
   "source": [
    "l = [10,20,30,40,50]\n",
    "i = itertools.combinations(l,2)\n",
    "for value in i:\n",
    "    print(value)"
   ]
  },
  {
   "cell_type": "code",
   "execution_count": 10,
   "metadata": {},
   "outputs": [
    {
     "name": "stdout",
     "output_type": "stream",
     "text": [
      "<itertools.permutations object at 0x0000025C41E85DC8>\n",
      "(10, 20, 30)\n"
     ]
    }
   ],
   "source": [
    "l = [10,20,30,40,50]\n",
    "i = itertools.permutations(l,3)\n",
    "print(i)\n",
    "print(next(i))\n",
    "# for value in i:\n",
    "#     print(value)"
   ]
  },
  {
   "cell_type": "code",
   "execution_count": 11,
   "metadata": {},
   "outputs": [
    {
     "name": "stdout",
     "output_type": "stream",
     "text": [
      "10\n",
      "20\n",
      "30\n",
      "40\n",
      "50\n",
      "10\n",
      "20\n",
      "30\n",
      "210\n"
     ]
    }
   ],
   "source": [
    "l = [10,20,30,40,50]\n",
    "i = itertools.cycle(l)\n",
    "sum = 0 \n",
    "for value in i:\n",
    "    print(value)\n",
    "    sum = sum + value\n",
    "    if sum > 200:\n",
    "        print(sum)\n",
    "        break"
   ]
  },
  {
   "cell_type": "code",
   "execution_count": 12,
   "metadata": {},
   "outputs": [
    {
     "name": "stdout",
     "output_type": "stream",
     "text": [
      "[10, 20, 30, 40, 50]\n",
      "[10, 20, 30, 40, 50]\n",
      "[10, 20, 30, 40, 50]\n",
      "[10, 20, 30, 40, 50]\n",
      "[10, 20, 30, 40, 50]\n",
      "[10, 20, 30, 40, 50]\n",
      "[10, 20, 30, 40, 50]\n",
      "[10, 20, 30, 40, 50]\n",
      "[10, 20, 30, 40, 50]\n",
      "[10, 20, 30, 40, 50]\n",
      "[10, 20, 30, 40, 50]\n",
      "[10, 20, 30, 40, 50]\n",
      "[10, 20, 30, 40, 50]\n",
      "[10, 20, 30, 40, 50]\n",
      "[10, 20, 30, 40, 50]\n",
      "[10, 20, 30, 40, 50]\n",
      "[10, 20, 30, 40, 50]\n",
      "[10, 20, 30, 40, 50]\n",
      "[10, 20, 30, 40, 50]\n",
      "[10, 20, 30, 40, 50]\n",
      "[10, 20, 30, 40, 50]\n",
      "21\n"
     ]
    }
   ],
   "source": [
    "l = [10,20,30,40,50]\n",
    "i = itertools.repeat(l)\n",
    "count = 0 \n",
    "for value in i:\n",
    "    print(value)\n",
    "    count+=1\n",
    "   \n",
    "    if count > 20:\n",
    "        print(count)\n",
    "        break"
   ]
  },
  {
   "cell_type": "code",
   "execution_count": 13,
   "metadata": {},
   "outputs": [
    {
     "name": "stdout",
     "output_type": "stream",
     "text": [
      "5\n",
      "7\n",
      "9\n",
      "11\n",
      "13\n",
      "15\n",
      "17\n",
      "19\n",
      "21\n",
      "23\n",
      "25\n",
      "27\n",
      "29\n",
      "31\n",
      "33\n",
      "35\n",
      "37\n",
      "39\n",
      "41\n",
      "43\n",
      "45\n"
     ]
    }
   ],
   "source": [
    "import itertools\n",
    "count = 0\n",
    "for value in itertools.count(5,2):\n",
    "    print(value)\n",
    "    count+=1\n",
    "    if count > 20:\n",
    "        break"
   ]
  },
  {
   "cell_type": "code",
   "execution_count": null,
   "metadata": {},
   "outputs": [],
   "source": [
    "list()\n",
    "for\n",
    "next()"
   ]
  },
  {
   "cell_type": "code",
   "execution_count": null,
   "metadata": {},
   "outputs": [],
   "source": [
    "chain \n",
    "islice \n",
    "repeat \n",
    "cycle \n",
    "permutations\n",
    "combinations\n",
    "count"
   ]
  },
  {
   "cell_type": "code",
   "execution_count": 29,
   "metadata": {},
   "outputs": [
    {
     "name": "stdout",
     "output_type": "stream",
     "text": [
      "60\n"
     ]
    }
   ],
   "source": [
    "def add(num1,num2):\n",
    "    num3 = 100\n",
    "    num1 = num1 * 2\n",
    "    num2 = num2 * 2\n",
    "    return num1 + num2\n",
    "\n",
    "print(add(10,20))\n",
    "#print(num1)\n",
    "#print(num2)"
   ]
  },
  {
   "cell_type": "code",
   "execution_count": null,
   "metadata": {},
   "outputs": [],
   "source": [
    "generators : func iterators"
   ]
  },
  {
   "cell_type": "code",
   "execution_count": null,
   "metadata": {},
   "outputs": [],
   "source": [
    "first_num = 0\n",
    "sec_num = 1 \n",
    "next_val = first_num + sec_num\n",
    "\n",
    "0,1 => 0+1 =1\n",
    "\n",
    "first_num = 1 \n",
    "sec_num = 1 \n",
    "next_val = 2"
   ]
  },
  {
   "cell_type": "code",
   "execution_count": 15,
   "metadata": {},
   "outputs": [
    {
     "name": "stdout",
     "output_type": "stream",
     "text": [
      "<generator object fibo at 0x0000025C41EA9648>\n",
      "0\n",
      "1\n",
      "1\n",
      "2\n"
     ]
    }
   ],
   "source": [
    "def fibo():\n",
    "    num1 = 0\n",
    "    yield num1\n",
    "    num2 = 1\n",
    "    yield num2\n",
    "    \n",
    "    while True:\n",
    "        next_num = num1 + num2\n",
    "        yield next_num\n",
    "        num1,num2 = num2,next_num\n",
    "        \n",
    "g = fibo()\n",
    "print(g)\n",
    "print(next(g))  \n",
    "print(next(g)) \n",
    "print(next(g)) \n",
    "print(next(g))"
   ]
  },
  {
   "cell_type": "code",
   "execution_count": 16,
   "metadata": {},
   "outputs": [
    {
     "name": "stdout",
     "output_type": "stream",
     "text": [
      "<generator object fibo at 0x0000025C41EA9048>\n",
      "[0, 1, 1, 2, 3]\n",
      "[5, 8, 13, 21, 34]\n"
     ]
    }
   ],
   "source": [
    "def fibo():\n",
    "    l = []\n",
    "    num1 = 0\n",
    "    num2 = 1\n",
    "    \n",
    "    l.append(num1)\n",
    "    l.append(num2)\n",
    "    \n",
    "    count = 2\n",
    "    while True:\n",
    "        next_num = num1 + num2\n",
    "        l.append(next_num)\n",
    "        count+=1\n",
    "        \n",
    "        if count == 5:\n",
    "            yield l\n",
    "            l = []\n",
    "            count = 0\n",
    "        num1,num2 = num2,next_num\n",
    "        \n",
    "g = fibo()\n",
    "print(g)\n",
    "print(next(g))  \n",
    "print(next(g))"
   ]
  },
  {
   "cell_type": "code",
   "execution_count": 17,
   "metadata": {},
   "outputs": [
    {
     "name": "stdout",
     "output_type": "stream",
     "text": [
      "<generator object get_file_name at 0x0000025C41EA90C8>\n",
      "Sample program line1\n",
      "Sample program line2\n",
      "Sample program line3\n",
      "Sample program line4\n",
      "sample1.txt\n"
     ]
    }
   ],
   "source": [
    "def get_file_name():\n",
    "    files = [\"sample.txt\",\"sample1.txt\",\"sample3.txt\"]\n",
    "    for file in files:\n",
    "        yield file\n",
    "\n",
    "def read_file(filename):\n",
    "    fp = open(filename,\"r\")\n",
    "    print(fp.read())\n",
    "g = get_file_name()\n",
    "print(g)\n",
    "read_file(next(g))\n",
    "print(next(g))"
   ]
  },
  {
   "cell_type": "code",
   "execution_count": 18,
   "metadata": {},
   "outputs": [
    {
     "name": "stdout",
     "output_type": "stream",
     "text": [
      "100\n"
     ]
    }
   ],
   "source": [
    "l = [10,20,30,40,50,60]\n",
    "l2 = (value * value for value in l)\n",
    "\n",
    "# print(list(l2))\n",
    "print(next(l2))\n",
    "# print(next(l2))\n",
    "# for value in l2:\n",
    "#     print(value)"
   ]
  },
  {
   "cell_type": "code",
   "execution_count": null,
   "metadata": {},
   "outputs": [],
   "source": [
    "Decorators : a func which takes a func as an arg and return a new func"
   ]
  },
  {
   "cell_type": "code",
   "execution_count": null,
   "metadata": {},
   "outputs": [],
   "source": []
  },
  {
   "cell_type": "code",
   "execution_count": null,
   "metadata": {},
   "outputs": [],
   "source": [
    "@classmethod"
   ]
  },
  {
   "cell_type": "code",
   "execution_count": 19,
   "metadata": {},
   "outputs": [
    {
     "name": "stdout",
     "output_type": "stream",
     "text": [
      "30\n",
      "PythonJava\n",
      "10Python\n"
     ]
    }
   ],
   "source": [
    "def add_deco(func):\n",
    "    def new_func(val1,val2):\n",
    "        if type(val1) == type(val2):\n",
    "            return func(val1,val2)\n",
    "        else:\n",
    "            return func(str(val1),str(val2))      \n",
    "        \n",
    "    \n",
    "    return new_func\n",
    "\n",
    "@add_deco\n",
    "def add(val1,val2):\n",
    "    return val1 + val2\n",
    "\n",
    "print(add(10,20))\n",
    "print(add(\"Python\",\"Java\"))\n",
    "print(add(10,\"Python\"))"
   ]
  },
  {
   "cell_type": "code",
   "execution_count": null,
   "metadata": {},
   "outputs": [],
   "source": [
    "print(add(10,20)) => Deco \n",
    "    def add_deco(add)\n",
    "    \n",
    "        def new_func(val1,val2):\n",
    "            \n",
    "        return new_func => 2"
   ]
  },
  {
   "cell_type": "code",
   "execution_count": 20,
   "metadata": {},
   "outputs": [
    {
     "name": "stdout",
     "output_type": "stream",
     "text": [
      "Unauthorised user\n"
     ]
    }
   ],
   "source": [
    "def login(func):\n",
    "    \n",
    "    def new_func(username,password,val):        \n",
    "        if username == \"abc@123\" and password == \"password\":\n",
    "            return func(username,password,val)\n",
    "        else:\n",
    "            return \"Unauthorised user\"\n",
    "    \n",
    "    return new_func\n",
    "   \n",
    "@login\n",
    "def edit_name(username,password,new_name):\n",
    "    print(\"getting in edit name\")\n",
    "    return \"Name updated\"\n",
    "\n",
    "@login\n",
    "def edit_email(username,password,new_name):\n",
    "    print(\"getting in edit email\")\n",
    "    return \"email updated\"\n",
    "\n",
    "    \n",
    "print(edit_name(\"abc@1234\",\"password\",\"ABZ\"))\n",
    "# print(edit_email(\"abc@123\",\"password\",\"ABZ@gmail.com\"))"
   ]
  }
 ],
 "metadata": {
  "kernelspec": {
   "display_name": "Python 3",
   "language": "python",
   "name": "python3"
  },
  "language_info": {
   "codemirror_mode": {
    "name": "ipython",
    "version": 3
   },
   "file_extension": ".py",
   "mimetype": "text/x-python",
   "name": "python",
   "nbconvert_exporter": "python",
   "pygments_lexer": "ipython3",
   "version": "3.7.4"
  }
 },
 "nbformat": 4,
 "nbformat_minor": 2
}
