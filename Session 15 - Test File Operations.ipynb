{
 "cells": [
  {
   "cell_type": "code",
   "execution_count": null,
   "metadata": {},
   "outputs": [],
   "source": [
    "Different positional parameter passing techniques :\n",
    "    1. Positinal : the total no of arguments in func def and func calls should be same and mapping will be squential.\n",
    "    2. Default : default value will be passed if the arguement has no values\n",
    "    3. keyword or named : we can pass all the parameters or the selected parameters by specifying the specific keyword.\n",
    "    4. Variable Positional : we wirte it as **args => data type will be tuple\n",
    "    5. Variable keyword : we write it as **kwargs => data type will be dict"
   ]
  },
  {
   "cell_type": "code",
   "execution_count": null,
   "metadata": {},
   "outputs": [],
   "source": [
    "from \n",
    "import"
   ]
  },
  {
   "cell_type": "code",
   "execution_count": null,
   "metadata": {},
   "outputs": [],
   "source": [
    "\"\"\" doc_string\"\"\"\n",
    "\n",
    "def add():\n",
    "    \"\"\"func dsecription\"\"\""
   ]
  },
  {
   "cell_type": "code",
   "execution_count": null,
   "metadata": {},
   "outputs": [],
   "source": [
    "__name__ = '__main__'"
   ]
  },
  {
   "cell_type": "code",
   "execution_count": 2,
   "metadata": {},
   "outputs": [],
   "source": [
    "if __name__ == '__main__':"
   ]
  },
  {
   "cell_type": "code",
   "execution_count": null,
   "metadata": {},
   "outputs": [],
   "source": [
    "l = [1,2,3]\n",
    "l.pop(2) => remove on the basis of index\n",
    "l.remove(2) => remove on the basis of value"
   ]
  },
  {
   "cell_type": "code",
   "execution_count": null,
   "metadata": {},
   "outputs": [],
   "source": [
    "d= {}\n",
    "l = [10,20,30]\n",
    "d= {[10,20,30]:3} #cannot add list as key in dict "
   ]
  },
  {
   "cell_type": "code",
   "execution_count": null,
   "metadata": {},
   "outputs": [],
   "source": [
    "rules of dict\n",
    "- all the keys should be unique\n",
    "- all the keys should be immutable"
   ]
  },
  {
   "cell_type": "code",
   "execution_count": null,
   "metadata": {},
   "outputs": [],
   "source": [
    "l1 = [10,20,30]\n",
    "l2 = list(l1) #memory location"
   ]
  },
  {
   "cell_type": "code",
   "execution_count": null,
   "metadata": {},
   "outputs": [],
   "source": [
    "File Operations : TXT files"
   ]
  },
  {
   "cell_type": "code",
   "execution_count": null,
   "metadata": {},
   "outputs": [],
   "source": [
    "Different modes :\n",
    "    r : read\n",
    "    r+ : read + write\n",
    "        \n",
    "    w : write \n",
    "    w+ : write + read\n",
    "        \n",
    "    a : append \n",
    "    a+"
   ]
  },
  {
   "cell_type": "code",
   "execution_count": 4,
   "metadata": {},
   "outputs": [
    {
     "name": "stdout",
     "output_type": "stream",
     "text": [
      "Sample program line1\n",
      "Sample program line2\n",
      "Sample program line3\n",
      "Sample program line4\n",
      "\n"
     ]
    }
   ],
   "source": [
    "fp = open(\"sample.txt\",\"r\")\n",
    "content = fp.read()\n",
    "print(content)\n",
    "\n",
    "content = fp.read()   #if we write 2 times it doesnt create 2 same output\n",
    "print(content)\n",
    "\n",
    "fp.close()"
   ]
  },
  {
   "cell_type": "code",
   "execution_count": 5,
   "metadata": {},
   "outputs": [
    {
     "name": "stdout",
     "output_type": "stream",
     "text": [
      "<class 'str'>\n",
      "\n"
     ]
    }
   ],
   "source": [
    "fp = open(\"sample.txt\",\"r\")\n",
    "content = fp.read()\n",
    "print(type(content))\n",
    "\n",
    "content = fp.read()   #if we write 2 times it doesnt create 2 same output\n",
    "print(content)\n",
    "\n",
    "fp.close()"
   ]
  },
  {
   "cell_type": "code",
   "execution_count": 8,
   "metadata": {},
   "outputs": [
    {
     "name": "stdout",
     "output_type": "stream",
     "text": [
      "Sample pro\n"
     ]
    }
   ],
   "source": [
    "fp = open(\"sample.txt\",\"r\")\n",
    "content = fp.read(10)  #reading the specific no of characters\n",
    "print(content)\n",
    "\n",
    "fp.close()"
   ]
  },
  {
   "cell_type": "code",
   "execution_count": 7,
   "metadata": {},
   "outputs": [
    {
     "name": "stdout",
     "output_type": "stream",
     "text": [
      "Sample pro\n",
      "gram line1\n",
      "Sample pr\n"
     ]
    }
   ],
   "source": [
    "fp = open(\"sample.txt\",\"r\")\n",
    "content = fp.read(10)  #reading the specific no of characters\n",
    "print(content)\n",
    "\n",
    "content = fp.read(20)  #reading the specific no of characters from the 10\n",
    "print(content)\n",
    "\n",
    "fp.close()"
   ]
  },
  {
   "cell_type": "code",
   "execution_count": 9,
   "metadata": {},
   "outputs": [
    {
     "name": "stdout",
     "output_type": "stream",
     "text": [
      "Sample program line1\n",
      "\n",
      "Sample program line2\n",
      "\n"
     ]
    }
   ],
   "source": [
    "fp = open(\"sample.txt\",\"r\")\n",
    "content = fp.readline()  #reading the line\n",
    "print(content)\n",
    "\n",
    "content = fp.readline()  #reading the next line\n",
    "print(content)\n",
    "\n",
    "fp.close()"
   ]
  },
  {
   "cell_type": "code",
   "execution_count": 10,
   "metadata": {},
   "outputs": [
    {
     "name": "stdout",
     "output_type": "stream",
     "text": [
      "['Sample program line1\\n', 'Sample program line2\\n', 'Sample program line3\\n', 'Sample program line4']\n"
     ]
    }
   ],
   "source": [
    "fp = open(\"sample.txt\",\"r\")\n",
    "content = fp.readlines()#reads everything in one list split on the basis of \\n,we can perform indexing & slicing\n",
    "print(content)\n",
    "\n",
    "fp.close()"
   ]
  },
  {
   "cell_type": "code",
   "execution_count": 12,
   "metadata": {},
   "outputs": [
    {
     "name": "stdout",
     "output_type": "stream",
     "text": [
      "['Sample program line2\\n', 'Sample program line3\\n', 'Sample program line4']\n"
     ]
    }
   ],
   "source": [
    "fp = open(\"sample.txt\",\"r\")\n",
    "content = fp.readlines()#reads everything in one list split on the basis of \\n,we can perform indexing & slicing\n",
    "print(content[1:])\n",
    "\n",
    "fp.close()"
   ]
  },
  {
   "cell_type": "code",
   "execution_count": 15,
   "metadata": {},
   "outputs": [
    {
     "name": "stdout",
     "output_type": "stream",
     "text": [
      "['Sample program line1\\n', 'Sample program line2\\n', 'Sample program line3\\n', 'Sample program line4']\n"
     ]
    }
   ],
   "source": [
    "fp = open(\"sample.txt\",\"r\")\n",
    "content = fp.readlines()#reads everything in one list split on the basis of \\n,we can perform indexing & slicing\n",
    "print(content[0:])\n",
    "\n",
    "fp.close()"
   ]
  },
  {
   "cell_type": "code",
   "execution_count": 17,
   "metadata": {},
   "outputs": [
    {
     "name": "stdout",
     "output_type": "stream",
     "text": [
      "4\n"
     ]
    }
   ],
   "source": [
    "fp = open(\"sample.txt\",\"r\")\n",
    "content = fp.readlines()\n",
    "print(len(content)) #length of list\n",
    "\n",
    "fp.close()"
   ]
  },
  {
   "cell_type": "code",
   "execution_count": null,
   "metadata": {},
   "outputs": [],
   "source": [
    "Read(str) and readlines(list) both brings entire content into memory"
   ]
  },
  {
   "cell_type": "code",
   "execution_count": 18,
   "metadata": {},
   "outputs": [
    {
     "name": "stdout",
     "output_type": "stream",
     "text": [
      "<_io.TextIOWrapper name='sample.txt' mode='r' encoding='cp1252'>\n",
      "<_io.TextIOWrapper name='sample.txt' mode='r' encoding='cp1252'>\n",
      "<_io.TextIOWrapper name='sample.txt' mode='r' encoding='cp1252'>\n",
      "<_io.TextIOWrapper name='sample.txt' mode='r' encoding='cp1252'>\n"
     ]
    }
   ],
   "source": [
    "fp = open(\"sample.txt\",\"r\")\n",
    "# content = fp.readlines()\n",
    "# print(content)\n",
    "\n",
    "for x in fp: #we can for loop in file pointer\n",
    "    print(fp)\n",
    "    \n",
    "fp.close()"
   ]
  },
  {
   "cell_type": "code",
   "execution_count": 20,
   "metadata": {},
   "outputs": [
    {
     "name": "stdout",
     "output_type": "stream",
     "text": [
      "Sample program line2\n",
      "\n",
      "Sample program line4\n"
     ]
    }
   ],
   "source": [
    "fp = open(\"sample.txt\",\"r\")\n",
    "# content = fp.readlines()#reads everything in one list split on the basis of \\n,we can perform indexing & slicing\n",
    "# print(content)\n",
    "\n",
    "for x in fp:\n",
    "    print(next(fp))\n",
    "    \n",
    "fp.close()"
   ]
  },
  {
   "cell_type": "code",
   "execution_count": null,
   "metadata": {},
   "outputs": [],
   "source": [
    "About read mode : In read mode file should be exist before we read.\n",
    "    \n",
    "if we write for loop on str => i will be iterating over individual char\n",
    "if we wrtie for loop on list => i will be iterating over individual elements\n",
    "if we write for loop on dict => i will be iterating defaultly on keys\n",
    "if we want to iterate on both keys and values => we use .items\n",
    "if we use for loop on file pointer every iteration we will get one line at a time"
   ]
  },
  {
   "cell_type": "code",
   "execution_count": null,
   "metadata": {},
   "outputs": [],
   "source": [
    "Write mode :\n",
    "    if doesnt exist it will create a new file automatically."
   ]
  },
  {
   "cell_type": "code",
   "execution_count": 21,
   "metadata": {},
   "outputs": [],
   "source": [
    "fp = open(\"sample2.txt\",\"w\") # file will be created automatically in directory after u run\n",
    "fp.write(\"Add this line to sample2.txt\") \n",
    "fp.close()"
   ]
  },
  {
   "cell_type": "code",
   "execution_count": 22,
   "metadata": {},
   "outputs": [],
   "source": [
    "fp = open(\"sample2.txt\",\"w\")\n",
    "# old txt will be replaced by new txt automatically in directory after u run and wont return value back will wipeout\n",
    "fp.write(\"trying to write new content on sample2.txt\") \n",
    "fp.close()"
   ]
  },
  {
   "cell_type": "code",
   "execution_count": 23,
   "metadata": {},
   "outputs": [
    {
     "ename": "UnsupportedOperation",
     "evalue": "not readable",
     "output_type": "error",
     "traceback": [
      "\u001b[1;31m---------------------------------------------------------------------------\u001b[0m",
      "\u001b[1;31mUnsupportedOperation\u001b[0m                      Traceback (most recent call last)",
      "\u001b[1;32m<ipython-input-23-4367f4e17de2>\u001b[0m in \u001b[0;36m<module>\u001b[1;34m\u001b[0m\n\u001b[0;32m      1\u001b[0m \u001b[0mfp\u001b[0m \u001b[1;33m=\u001b[0m \u001b[0mopen\u001b[0m\u001b[1;33m(\u001b[0m\u001b[1;34m\"sample2.txt\"\u001b[0m\u001b[1;33m,\u001b[0m\u001b[1;34m\"w\"\u001b[0m\u001b[1;33m)\u001b[0m\u001b[1;33m\u001b[0m\u001b[1;33m\u001b[0m\u001b[0m\n\u001b[0;32m      2\u001b[0m \u001b[0mfp\u001b[0m\u001b[1;33m.\u001b[0m\u001b[0mwrite\u001b[0m\u001b[1;33m(\u001b[0m\u001b[1;34m\"trying to write new content on sample2.txt\"\u001b[0m\u001b[1;33m)\u001b[0m\u001b[1;33m\u001b[0m\u001b[1;33m\u001b[0m\u001b[0m\n\u001b[1;32m----> 3\u001b[1;33m \u001b[0mr\u001b[0m \u001b[1;33m=\u001b[0m \u001b[0mfp\u001b[0m\u001b[1;33m.\u001b[0m\u001b[0mread\u001b[0m\u001b[1;33m(\u001b[0m\u001b[1;33m)\u001b[0m\u001b[1;33m\u001b[0m\u001b[1;33m\u001b[0m\u001b[0m\n\u001b[0m\u001b[0;32m      4\u001b[0m \u001b[0mprint\u001b[0m\u001b[1;33m(\u001b[0m\u001b[0mr\u001b[0m\u001b[1;33m)\u001b[0m \u001b[1;31m#throws error bcz we cant perform read operation in write operation\u001b[0m\u001b[1;33m\u001b[0m\u001b[1;33m\u001b[0m\u001b[0m\n\u001b[0;32m      5\u001b[0m \u001b[0mfp\u001b[0m\u001b[1;33m.\u001b[0m\u001b[0mclose\u001b[0m\u001b[1;33m(\u001b[0m\u001b[1;33m)\u001b[0m\u001b[1;33m\u001b[0m\u001b[1;33m\u001b[0m\u001b[0m\n",
      "\u001b[1;31mUnsupportedOperation\u001b[0m: not readable"
     ]
    }
   ],
   "source": [
    "fp = open(\"sample2.txt\",\"w\")\n",
    "fp.write(\"trying to write new content on sample2.txt\") \n",
    "r = fp.read()\n",
    "print(r) #throws error bcz we cant perform read operation in write operation\n",
    "fp.close()"
   ]
  },
  {
   "cell_type": "code",
   "execution_count": 29,
   "metadata": {},
   "outputs": [
    {
     "name": "stdout",
     "output_type": "stream",
     "text": [
      "\n"
     ]
    }
   ],
   "source": [
    "fp = open(\"sample2.txt\",\"w+\")\n",
    "fp.write(\"trying to write new content on sample2.txt\") #start and end is written and there ntg left to execute\n",
    "r = fp.read() #here we are saying to read from last position and there is ntg left \n",
    "print(r) \n",
    "fp.close()"
   ]
  },
  {
   "cell_type": "code",
   "execution_count": 30,
   "metadata": {},
   "outputs": [],
   "source": [
    "Functions to move file pointer positions :\n",
    "    Python has 2 func\n",
    "    tell() : will give current file pointer position\n",
    "    seek() : seek will help to change the fp position\n",
    "    0 : start of the file\n",
    "    1 : current position\n",
    "    2 : end of the file\n",
    "    seeks take two arrguements \n",
    "        offset : it specifies how many char want to move\n",
    "            seek(15,0) => move from 15 char from start(0) of the position\n",
    "            seek(0,0) => move the fp to start of the file\n",
    "            seek(0,2) => move the file 0 char to end of the position\n",
    "            seek(15,1) Doesnt work in current and end position bcz any offset value works in start position\n",
    "            seek(15,2) doesnt work"
   ]
  },
  {
   "cell_type": "code",
   "execution_count": 26,
   "metadata": {},
   "outputs": [
    {
     "name": "stdout",
     "output_type": "stream",
     "text": [
      "0\n",
      "42\n",
      "42\n",
      "\n"
     ]
    }
   ],
   "source": [
    "fp = open(\"sample2.txt\",\"w+\")\n",
    "print(fp.tell())\n",
    "fp.write(\"trying to write new content on sample2.txt\")  \n",
    "print(fp.tell())\n",
    "r = fp.read() \n",
    "print(fp.tell())\n",
    "print(r) \n",
    "fp.close()"
   ]
  },
  {
   "cell_type": "code",
   "execution_count": 32,
   "metadata": {},
   "outputs": [
    {
     "name": "stdout",
     "output_type": "stream",
     "text": [
      "0\n",
      "42\n",
      "42\n",
      "trying to write new content on sample2.txt\n"
     ]
    }
   ],
   "source": [
    "fp = open(\"sample2.txt\",\"w+\")\n",
    "print(fp.tell())\n",
    "fp.write(\"trying to write new content on sample2.txt\")  \n",
    "print(fp.tell())\n",
    "fp.seek(0,0) #move fp end to start of the file\n",
    "r = fp.read() \n",
    "print(fp.tell())\n",
    "print(r) \n",
    "fp.close()"
   ]
  },
  {
   "cell_type": "code",
   "execution_count": 33,
   "metadata": {},
   "outputs": [
    {
     "name": "stdout",
     "output_type": "stream",
     "text": [
      "0\n",
      "42\n",
      "0\n",
      "42\n",
      "trying to write new content on sample2.txt\n"
     ]
    }
   ],
   "source": [
    "fp = open(\"sample2.txt\",\"w+\")\n",
    "print(fp.tell())\n",
    "fp.write(\"trying to write new content on sample2.txt\")  \n",
    "print(fp.tell())\n",
    "fp.seek(0,0) #move fp from end to start of the file\n",
    "print(fp.tell())\n",
    "r = fp.read() \n",
    "print(fp.tell())\n",
    "print(r) \n",
    "fp.close()"
   ]
  },
  {
   "cell_type": "code",
   "execution_count": null,
   "metadata": {},
   "outputs": [],
   "source": [
    "r+ : read + write \n",
    "    - maintain the old content\n",
    "    - file should be exist earlier\n",
    "w+ : write + read \n",
    "    - wipe out the old content\n",
    "    - if file doesnt exist it creates the new file"
   ]
  },
  {
   "cell_type": "code",
   "execution_count": 8,
   "metadata": {},
   "outputs": [
    {
     "name": "stdout",
     "output_type": "stream",
     "text": [
      "What’s New In Python 3.8\n",
      "Editor\n",
      "Raymond Hettinger\n",
      "\n",
      "This article explains the new features in Python 3.8, compared to 3.7. For full details, see the changelog.\n",
      "\n",
      "Python 3.8 was released on October 14th, 2019.\n",
      "\n",
      "Summary – Release highlights\n",
      "New Features\n",
      "Assignment expressions\n",
      "There is new syntax := that assigns values to variables as part of a larger expression. It is affectionately known as “the walrus operator” due to its resemblance to the eyes and tusks of a walrus.\n",
      "\n",
      "In this example, the assignment expression helps avoid calling len() twice:\n",
      "\n",
      "if (n := len(a)) > 10:\n",
      "    print(f\"List is too long ({n} elements, expected <= 10)\")\n",
      "A similar benefit arises during regular expression matching where match objects are needed twice, once to test whether a match occurred and another to extract a subgroup:\n",
      "\n",
      "discount = 0.0\n",
      "if (mo := re.search(r'(\\d+)% discount', advertisement)):\n",
      "    discount = float(mo.group(1)) / 100.0\n",
      "The operator is also useful with while-loops that compute a value to test loop termination and then need that same value again in the body of the loop:\n",
      "\n",
      "# Loop over fixed length blocks\n",
      "while (block := f.read(256)) != '':\n",
      "    process(block)\n",
      "Another motivating use case arises in list comprehensions where a value computed in a filtering condition is also needed in the expression body:\n",
      "\n",
      "[clean_name.title() for name in names\n",
      " if (clean_name := normalize('NFC', name)) in allowed_names]\n",
      "Try to limit use of the walrus operator to clean cases that reduce complexity and improve readability.\n",
      "\n",
      "See PEP 572 for a full description.\n",
      "\n",
      "(Contributed by Emily Morehouse in bpo-35224.)\n",
      "\n",
      "Positional-only parameters\n",
      "There is a new function parameter syntax / to indicate that some function parameters must be specified positionally and cannot be used as keyword arguments. This is the same notation shown by help() for C functions annotated with Larry Hastings’ Argument Clinic tool.\n",
      "\n",
      "In the following example, parameters a and b are positional-only, while c or d can be positional or keyword, and e or f are required to be keywords:\n",
      "\n",
      "def f(a, b, /, c, d, *, e, f):\n",
      "    print(a, b, c, d, e, f)\n",
      "The following is a valid call:\n",
      "\n",
      "f(10, 20, 30, d=40, e=50, f=60)\n",
      "However, these are invalid calls:\n",
      "\n",
      "f(10, b=20, c=30, d=40, e=50, f=60)   # b cannot be a keyword argument\n",
      "f(10, 20, 30, 40, 50, f=60)           # e must be a keyword argument\n",
      "One use case for this notation is that it allows pure Python functions to fully emulate behaviors of existing C coded functions. For example, the built-in pow() function does not accept keyword arguments:\n",
      "\n",
      "def pow(x, y, z=None, /):\n",
      "    \"Emulate the built in pow() function\"\n",
      "    r = x ** y\n",
      "    return r if z is None else r%z\n",
      "Another use case is to preclude keyword arguments when the parameter name is not helpful. For example, the builtin len() function has the signature len(obj, /). This precludes awkward calls such as:\n",
      "\n",
      "len(obj='hello')  # The \"obj\" keyword argument impairs readability\n",
      "A further benefit of marking a parameter as positional-only is that it allows the parameter name to be changed in the future without risk of breaking client code. For example, in the statistics module, the parameter name dist may be changed in the future. This was made possible with the following function specification\n"
     ]
    },
    {
     "data": {
      "text/plain": [
       "<function TextIOWrapper.close()>"
      ]
     },
     "execution_count": 8,
     "metadata": {},
     "output_type": "execute_result"
    }
   ],
   "source": [
    "fp = open(\"D:\\sample3.txt\",\"r\") \n",
    "content = fp.read()\n",
    "print(content)\n",
    "fp.close"
   ]
  },
  {
   "cell_type": "code",
   "execution_count": 7,
   "metadata": {},
   "outputs": [
    {
     "ename": "UnicodeDecodeError",
     "evalue": "'utf-8' codec can't decode byte 0x92 in position 4: invalid start byte",
     "output_type": "error",
     "traceback": [
      "\u001b[1;31m---------------------------------------------------------------------------\u001b[0m",
      "\u001b[1;31mUnicodeDecodeError\u001b[0m                        Traceback (most recent call last)",
      "\u001b[1;32m<ipython-input-7-8d4f09cd0315>\u001b[0m in \u001b[0;36m<module>\u001b[1;34m\u001b[0m\n\u001b[0;32m      1\u001b[0m \u001b[0mfp\u001b[0m \u001b[1;33m=\u001b[0m \u001b[0mopen\u001b[0m\u001b[1;33m(\u001b[0m\u001b[1;34m\"D:\\sample3.txt\"\u001b[0m\u001b[1;33m,\u001b[0m\u001b[1;34m\"r\"\u001b[0m\u001b[1;33m,\u001b[0m\u001b[0mencoding\u001b[0m \u001b[1;33m=\u001b[0m \u001b[1;34m'utf-8'\u001b[0m\u001b[1;33m)\u001b[0m\u001b[1;33m\u001b[0m\u001b[1;33m\u001b[0m\u001b[0m\n\u001b[1;32m----> 2\u001b[1;33m \u001b[0mcontent\u001b[0m \u001b[1;33m=\u001b[0m \u001b[0mfp\u001b[0m\u001b[1;33m.\u001b[0m\u001b[0mread\u001b[0m\u001b[1;33m(\u001b[0m\u001b[1;33m)\u001b[0m\u001b[1;33m\u001b[0m\u001b[1;33m\u001b[0m\u001b[0m\n\u001b[0m\u001b[0;32m      3\u001b[0m \u001b[0mprint\u001b[0m\u001b[1;33m(\u001b[0m\u001b[0mcontent\u001b[0m\u001b[1;33m)\u001b[0m\u001b[1;33m\u001b[0m\u001b[1;33m\u001b[0m\u001b[0m\n\u001b[0;32m      4\u001b[0m \u001b[0mfp\u001b[0m\u001b[1;33m.\u001b[0m\u001b[0mclose\u001b[0m\u001b[1;33m\u001b[0m\u001b[1;33m\u001b[0m\u001b[0m\n",
      "\u001b[1;32m~\\Anaconda3\\lib\\codecs.py\u001b[0m in \u001b[0;36mdecode\u001b[1;34m(self, input, final)\u001b[0m\n\u001b[0;32m    320\u001b[0m         \u001b[1;31m# decode input (taking the buffer into account)\u001b[0m\u001b[1;33m\u001b[0m\u001b[1;33m\u001b[0m\u001b[1;33m\u001b[0m\u001b[0m\n\u001b[0;32m    321\u001b[0m         \u001b[0mdata\u001b[0m \u001b[1;33m=\u001b[0m \u001b[0mself\u001b[0m\u001b[1;33m.\u001b[0m\u001b[0mbuffer\u001b[0m \u001b[1;33m+\u001b[0m \u001b[0minput\u001b[0m\u001b[1;33m\u001b[0m\u001b[1;33m\u001b[0m\u001b[0m\n\u001b[1;32m--> 322\u001b[1;33m         \u001b[1;33m(\u001b[0m\u001b[0mresult\u001b[0m\u001b[1;33m,\u001b[0m \u001b[0mconsumed\u001b[0m\u001b[1;33m)\u001b[0m \u001b[1;33m=\u001b[0m \u001b[0mself\u001b[0m\u001b[1;33m.\u001b[0m\u001b[0m_buffer_decode\u001b[0m\u001b[1;33m(\u001b[0m\u001b[0mdata\u001b[0m\u001b[1;33m,\u001b[0m \u001b[0mself\u001b[0m\u001b[1;33m.\u001b[0m\u001b[0merrors\u001b[0m\u001b[1;33m,\u001b[0m \u001b[0mfinal\u001b[0m\u001b[1;33m)\u001b[0m\u001b[1;33m\u001b[0m\u001b[1;33m\u001b[0m\u001b[0m\n\u001b[0m\u001b[0;32m    323\u001b[0m         \u001b[1;31m# keep undecoded input until the next call\u001b[0m\u001b[1;33m\u001b[0m\u001b[1;33m\u001b[0m\u001b[1;33m\u001b[0m\u001b[0m\n\u001b[0;32m    324\u001b[0m         \u001b[0mself\u001b[0m\u001b[1;33m.\u001b[0m\u001b[0mbuffer\u001b[0m \u001b[1;33m=\u001b[0m \u001b[0mdata\u001b[0m\u001b[1;33m[\u001b[0m\u001b[0mconsumed\u001b[0m\u001b[1;33m:\u001b[0m\u001b[1;33m]\u001b[0m\u001b[1;33m\u001b[0m\u001b[1;33m\u001b[0m\u001b[0m\n",
      "\u001b[1;31mUnicodeDecodeError\u001b[0m: 'utf-8' codec can't decode byte 0x92 in position 4: invalid start byte"
     ]
    }
   ],
   "source": [
    "fp = open(\"D:\\sample3.txt\",\"r\",encoding = 'utf-8') \n",
    "content = fp.read()\n",
    "print(content)\n",
    "fp.close"
   ]
  },
  {
   "cell_type": "code",
   "execution_count": 5,
   "metadata": {},
   "outputs": [
    {
     "name": "stdout",
     "output_type": "stream",
     "text": [
      "3309\n"
     ]
    }
   ],
   "source": [
    "fp = open(\"D:\\sample3.txt\",\"r\") \n",
    "content = fp.read()\n",
    "#print(content)\n",
    "print(fp.tell())\n",
    "fp.close()"
   ]
  },
  {
   "cell_type": "code",
   "execution_count": 7,
   "metadata": {},
   "outputs": [
    {
     "name": "stdout",
     "output_type": "stream",
     "text": [
      "716\n"
     ]
    }
   ],
   "source": [
    "fp = open(\"D:\\sample3.txt\",\"r+\") \n",
    "#content = fp.read()\n",
    "#print(content)\n",
    "data = \"\"\"Since the parameters to the left of / are not exposed as possible keywords, the parameters names remain available for use in **kwargs:\n",
    "\n",
    ">>>\n",
    ">>> def f(a, b, /, **kwargs):\n",
    "...     print(a, b, kwargs)\n",
    "...\n",
    ">>> f(10, 20, a=1, b=2, c=3)         # a and b are used in two ways\n",
    "10 20 {'a': 1, 'b': 2, 'c': 3}\n",
    "This greatly simplifies the implementation of functions and methods that need to accept arbitrary keyword arguments. For example, here is an excerpt from code in the collections module:\n",
    "\n",
    "class Counter(dict):\n",
    "\n",
    "    def __init__(self, iterable=None, /, **kwds):\n",
    "        # Note \"iterable\" is a possible keyword argument\n",
    "See PEP 570 for a full description.\n",
    "\n",
    "(Contributed by Pablo Galindo in bpo-36540.)\n",
    "\"\"\"\n",
    "fp.write(data)\n",
    "print(fp.tell())\n",
    "fp.close()"
   ]
  },
  {
   "cell_type": "code",
   "execution_count": 9,
   "metadata": {},
   "outputs": [
    {
     "name": "stdout",
     "output_type": "stream",
     "text": [
      "4778\n"
     ]
    }
   ],
   "source": [
    "fp = open(\"D:\\sample3.txt\",\"r+\") \n",
    "#content = fp.read()\n",
    "#print(content)\n",
    "fp.seek(0,2)#wiil be added last\n",
    "data = \"\"\"\\n\\n\\n\\n\\n\\n\\n\\n\\n Since the parameters to the left of / are not exposed as possible keywords, the parameters names remain available for use in **kwargs:\n",
    "\n",
    ">>>\n",
    ">>> def f(a, b, /, **kwargs):\n",
    "...     print(a, b, kwargs)\n",
    "...\n",
    ">>> f(10, 20, a=1, b=2, c=3)         # a and b are used in two ways\n",
    "10 20 {'a': 1, 'b': 2, 'c': 3}\n",
    "This greatly simplifies the implementation of functions and methods that need to accept arbitrary keyword arguments. For example, here is an excerpt from code in the collections module:\n",
    "\n",
    "class Counter(dict):\n",
    "\n",
    "    def __init__(self, iterable=None, /, **kwds):\n",
    "        # Note \"iterable\" is a possible keyword argument\n",
    "See PEP 570 for a full description.\n",
    "\n",
    "(Contributed by Pablo Galindo in bpo-36540.)\n",
    "\"\"\"\n",
    "fp.write(data)\n",
    "print(fp.tell())\n",
    "fp.close()"
   ]
  },
  {
   "cell_type": "code",
   "execution_count": null,
   "metadata": {},
   "outputs": [],
   "source": [
    "a = fp will  be started at the last and we can write directly at the end\n",
    "- defaullty we can perform write at the end of the opertaion \n",
    "\n",
    "a+ = fp will  be started at the last and we can write directly\n",
    "- can not perform read operation\n",
    "\n",
    "we can perform read operation only by changing the file pointer position in a+"
   ]
  },
  {
   "cell_type": "code",
   "execution_count": 10,
   "metadata": {},
   "outputs": [
    {
     "name": "stdout",
     "output_type": "stream",
     "text": [
      "4778\n"
     ]
    }
   ],
   "source": [
    "fp = open(\"D:\\sample3.txt\",'a')\n",
    "print(fp.tell())\n",
    "fp.close()"
   ]
  },
  {
   "cell_type": "code",
   "execution_count": 6,
   "metadata": {},
   "outputs": [
    {
     "name": "stdout",
     "output_type": "stream",
     "text": [
      "5079\n"
     ]
    }
   ],
   "source": [
    "fp = open(\"D:\\sample3.txt\",'a')\n",
    "print(fp.tell())\n",
    "fp.write(\"\\n \\n \\n \\n add seek(15,1) to next release \")\n",
    "fp.close()"
   ]
  },
  {
   "cell_type": "code",
   "execution_count": 9,
   "metadata": {},
   "outputs": [
    {
     "name": "stdout",
     "output_type": "stream",
     "text": [
      "5208\n",
      "Since the parameters to the left of / are not exposed as possible keywords, the parameters names remain available for use in **kwargs:\n",
      "\n",
      ">>>\n",
      ">>> def f(a, b, /, **kwargs):\n",
      "...     print(a, b, kwargs)\n",
      "...\n",
      ">>> f(10, 20, a=1, b=2, c=3)         # a and b are used in two ways\n",
      "10 20 {'a': 1, 'b': 2, 'c': 3}\n",
      "This greatly simplifies the implementation of functions and methods that need to accept arbitrary keyword arguments. For example, here is an excerpt from code in the collections module:\n",
      "\n",
      "\n",
      "\n",
      "    def __init__(self, iterable=None, /, **kwds):\n",
      "        # Note \"iterable\" is a possible keyword argument\n",
      "See PEP 570 for a full description.\n",
      "\n",
      "(Contributed by Pablo Galindo in bpo-36540.)\n",
      "ndo in bpo-36540.)\n",
      " match objects are needed twice, once to test whether a match occurred and another to extract a subgroup:\n",
      "\n",
      "discount = 0.0\n",
      "if (mo := re.search(r'(\\d+)% discount', advertisement)):\n",
      "    discount = float(mo.group(1)) / 100.0\n",
      "The operator is also useful with while-loops that compute a value to test loop termination and then need that same value again in the body of the loop:\n",
      "\n",
      "# Loop over fixed length blocks\n",
      "while (block := f.read(256)) != '':\n",
      "    process(block)\n",
      "Another motivating use case arises in list comprehensions where a value computed in a filtering condition is also needed in the expression body:\n",
      "\n",
      "[clean_name.title() for name in names\n",
      " if (clean_name := normalize('NFC', name)) in allowed_names]\n",
      "Try to limit use of the walrus operator to clean cases that reduce complexity and improve readability.\n",
      "\n",
      "See PEP 572 for a full description.\n",
      "\n",
      "(Contributed by Emily Morehouse in bpo-35224.)\n",
      "\n",
      "Positional-only parameters\n",
      "There is a new function parameter syntax / to indicate that some function parameters must be specified positionally and cannot be used as keyword arguments. This is the same notation shown by help() for C functions annotated with Larry Hastings’ Argument Clinic tool.\n",
      "\n",
      "In the following example, parameters a and b are positional-only, while c or d can be positional or keyword, and e or f are required to be keywords:\n",
      "\n",
      "def f(a, b, /, c, d, *, e, f):\n",
      "    print(a, b, c, d, e, f)\n",
      "The following is a valid call:\n",
      "\n",
      "f(10, 20, 30, d=40, e=50, f=60)\n",
      "However, these are invalid calls:\n",
      "\n",
      "f(10, b=20, c=30, d=40, e=50, f=60)   # b cannot be a keyword argument\n",
      "f(10, 20, 30, 40, 50, f=60)           # e must be a keyword argument\n",
      "One use case for this notation is that it allows pure Python functions to fully emulate behaviors of existing C coded functions. For example, the built-in pow() function does not accept keyword arguments:\n",
      "\n",
      "def pow(x, y, z=None, /):\n",
      "    \"Emulate the built in pow() function\"\n",
      "    r = x ** y\n",
      "    return r if z is None else r%z\n",
      "Another use case is to preclude keyword arguments when the parameter name is not helpful. For example, the builtin len() function has the signature len(obj, /). This precludes awkward calls such as:\n",
      "\n",
      "len(obj='hello')  # The \"obj\" keyword argument impairs readability\n",
      "A further benefit of marking a parameter as positional-only is that it allows the parameter name to be changed in the future without risk of breaking client code. For example, in the statistics module, the parameter name dist may be changed in the future. This was made possible with the following function specification\n",
      "\n",
      "\n",
      "\n",
      "\n",
      "\n",
      "\n",
      "\n",
      "\n",
      "Since the parameters to the left of / are not exposed as possible keywords, the parameters names remain available for use in **kwargs:\n",
      "\n",
      ">>>\n",
      ">>> def f(a, b, /, **kwargs):\n",
      "...     print(a, b, kwargs)\n",
      "...\n",
      ">>> f(10, 20, a=1, b=2, c=3)         # a and b are used in two ways\n",
      "10 20 {'a': 1, 'b': 2, 'c': 3}\n",
      "This greatly simplifies the implementation of functions and methods that need to accept arbitrary keyword arguments. For example, here is an excerpt from code in the collections module:\n",
      "\n",
      "class Counter(dict):\n",
      "\n",
      "    def __init__(self, iterable=None, /, **kwds):\n",
      "        # Note \"iterable\" is a possible keyword argument\n",
      "See PEP 570 for a full description.\n",
      "\n",
      "(Contributed by Pablo Galindo in bpo-36540.)\n",
      "\n",
      "\n",
      "\n",
      "\n",
      "\n",
      "\n",
      "\n",
      "\n",
      "\n",
      " Since the parameters to the left of / are not exposed as possible keywords, the parameters names remain available for use in **kwargs:\n",
      "\n",
      ">>>\n",
      ">>> def f(a, b, /, **kwargs):\n",
      "...     print(a, b, kwargs)\n",
      "...\n",
      ">>> f(10, 20, a=1, b=2, c=3)         # a and b are used in two ways\n",
      "10 20 {'a': 1, 'b': 2, 'c': 3}\n",
      "This greatly simplifies the implementation of functions and methods that need to accept arbitrary keyword arguments. For example, here is an excerpt from code in the collections module:\n",
      "\n",
      "class Counter(dict):\n",
      "\n",
      "    def __init__(self, iterable=None, /, **kwds):\n",
      "        # Note \"iterable\" is a possible keyword argument\n",
      "See PEP 570 for a full description.\n",
      "\n",
      "(Contributed by Pablo Galindo in bpo-36540.)\n",
      "\n",
      " \n",
      " \n",
      " \n",
      " add seek(15,1) to next release \n",
      " \n",
      " \n",
      " \n",
      " add seek(15,1) to next release \n",
      " \n",
      " \n",
      " \n",
      " add seek(15,1) to next release \n",
      " \n",
      " \n",
      " \n",
      " add seek(15,1) to next release \n",
      " \n",
      " \n",
      " \n",
      " add seek(15,1) to next release \n",
      " \n",
      " \n",
      " \n",
      " add seek(15,1) to next release \n",
      " \n",
      " \n",
      " \n",
      " add seek(15,1) to next release \n",
      " \n",
      " \n",
      " \n",
      " add seek(15,1) to next release \n",
      " \n",
      " \n",
      " \n",
      " add seek(15,1) to next release \n",
      " \n",
      " \n",
      " \n",
      " add seek(15,1) to next release \n",
      " \n",
      " \n",
      " \n",
      " add seek(15,1) to next release \n"
     ]
    }
   ],
   "source": [
    "fp = open(\"D:\\sample3.txt\",'a+')\n",
    "print(fp.tell())\n",
    "fp.write(\"\\n \\n \\n \\n add seek(15,1) to next release \")\n",
    "fp.seek(0,0)\n",
    "r = fp.read()\n",
    "print(r)\n",
    "fp.close()"
   ]
  },
  {
   "cell_type": "code",
   "execution_count": 12,
   "metadata": {},
   "outputs": [
    {
     "name": "stdout",
     "output_type": "stream",
     "text": [
      "5251\n",
      "Since the parameters to the left of / are not exposed as possible keywords, the parameters names remain available for use in **kwargs:\n",
      "\n",
      ">>>\n",
      ">>> def f(a, b, /, **kwargs):\n",
      "...     print(a, b, kwargs)\n",
      "...\n",
      ">>> f(10, 20, a=1, b=2, c=3)         # a and b are used in two ways\n",
      "10 20 {'a': 1, 'b': 2, 'c': 3}\n",
      "This greatly simplifies the implementation of functions and methods that need to accept arbitrary keyword arguments. For example, here is an excerpt from code in the collections module:\n",
      "\n",
      "\n",
      "\n",
      "    def __init__(self, iterable=None, /, **kwds):\n",
      "        # Note \"iterable\" is a possible keyword argument\n",
      "See PEP 570 for a full description.\n",
      "\n",
      "(Contributed by Pablo Galindo in bpo-36540.)\n",
      "ndo in bpo-36540.)\n",
      " match objects are needed twice, once to test whether a match occurred and another to extract a subgroup:\n",
      "\n",
      "discount = 0.0\n",
      "if (mo := re.search(r'(\\d+)% discount', advertisement)):\n",
      "    discount = float(mo.group(1)) / 100.0\n",
      "The operator is also useful with while-loops that compute a value to test loop termination and then need that same value again in the body of the loop:\n",
      "\n",
      "# Loop over fixed length blocks\n",
      "while (block := f.read(256)) != '':\n",
      "    process(block)\n",
      "Another motivating use case arises in list comprehensions where a value computed in a filtering condition is also needed in the expression body:\n",
      "\n",
      "[clean_name.title() for name in names\n",
      " if (clean_name := normalize('NFC', name)) in allowed_names]\n",
      "Try to limit use of the walrus operator to clean cases that reduce complexity and improve readability.\n",
      "\n",
      "See PEP 572 for a full description.\n",
      "\n",
      "(Contributed by Emily Morehouse in bpo-35224.)\n",
      "\n",
      "Positional-only parameters\n",
      "There is a new function parameter syntax / to indicate that some function parameters must be specified positionally and cannot be used as keyword arguments. This is the same notation shown by help() for C functions annotated with Larry Hastings’ Argument Clinic tool.\n",
      "\n",
      "In the following example, parameters a and b are positional-only, while c or d can be positional or keyword, and e or f are required to be keywords:\n",
      "\n",
      "def f(a, b, /, c, d, *, e, f):\n",
      "    print(a, b, c, d, e, f)\n",
      "The following is a valid call:\n",
      "\n",
      "f(10, 20, 30, d=40, e=50, f=60)\n",
      "However, these are invalid calls:\n",
      "\n",
      "f(10, b=20, c=30, d=40, e=50, f=60)   # b cannot be a keyword argument\n",
      "f(10, 20, 30, 40, 50, f=60)           # e must be a keyword argument\n",
      "One use case for this notation is that it allows pure Python functions to fully emulate behaviors of existing C coded functions. For example, the built-in pow() function does not accept keyword arguments:\n",
      "\n",
      "def pow(x, y, z=None, /):\n",
      "    \"Emulate the built in pow() function\"\n",
      "    r = x ** y\n",
      "    return r if z is None else r%z\n",
      "Another use case is to preclude keyword arguments when the parameter name is not helpful. For example, the builtin len() function has the signature len(obj, /). This precludes awkward calls such as:\n",
      "\n",
      "len(obj='hello')  # The \"obj\" keyword argument impairs readability\n",
      "A further benefit of marking a parameter as positional-only is that it allows the parameter name to be changed in the future without risk of breaking client code. For example, in the statistics module, the parameter name dist may be changed in the future. This was made possible with the following function specification\n",
      "\n",
      "\n",
      "\n",
      "\n",
      "\n",
      "\n",
      "\n",
      "\n",
      "Since the parameters to the left of / are not exposed as possible keywords, the parameters names remain available for use in **kwargs:\n",
      "\n",
      ">>>\n",
      ">>> def f(a, b, /, **kwargs):\n",
      "...     print(a, b, kwargs)\n",
      "...\n",
      ">>> f(10, 20, a=1, b=2, c=3)         # a and b are used in two ways\n",
      "10 20 {'a': 1, 'b': 2, 'c': 3}\n",
      "This greatly simplifies the implementation of functions and methods that need to accept arbitrary keyword arguments. For example, here is an excerpt from code in the collections module:\n",
      "\n",
      "class Counter(dict):\n",
      "\n",
      "    def __init__(self, iterable=None, /, **kwds):\n",
      "        # Note \"iterable\" is a possible keyword argument\n",
      "See PEP 570 for a full description.\n",
      "\n",
      "(Contributed by Pablo Galindo in bpo-36540.)\n",
      "\n",
      "\n",
      "\n",
      "\n",
      "\n",
      "\n",
      "\n",
      "\n",
      "\n",
      " Since the parameters to the left of / are not exposed as possible keywords, the parameters names remain available for use in **kwargs:\n",
      "\n",
      ">>>\n",
      ">>> def f(a, b, /, **kwargs):\n",
      "...     print(a, b, kwargs)\n",
      "...\n",
      ">>> f(10, 20, a=1, b=2, c=3)         # a and b are used in two ways\n",
      "10 20 {'a': 1, 'b': 2, 'c': 3}\n",
      "This greatly simplifies the implementation of functions and methods that need to accept arbitrary keyword arguments. For example, here is an excerpt from code in the collections module:\n",
      "\n",
      "class Counter(dict):\n",
      "\n",
      "    def __init__(self, iterable=None, /, **kwds):\n",
      "        # Note \"iterable\" is a possible keyword argument\n",
      "See PEP 570 for a full description.\n",
      "\n",
      "(Contributed by Pablo Galindo in bpo-36540.)\n",
      "\n",
      " \n",
      " \n",
      " \n",
      " add seek(15,1) to next release \n",
      " \n",
      " \n",
      " \n",
      " add seek(15,1) to next release \n",
      " \n",
      " \n",
      " \n",
      " add seek(15,1) to next release \n",
      " \n",
      " \n",
      " \n",
      " add seek(15,1) to next release \n",
      " \n",
      " \n",
      " \n",
      " add seek(15,1) to next release \n",
      " \n",
      " \n",
      " \n",
      " add seek(15,1) to next release \n",
      " \n",
      " \n",
      " \n",
      " add seek(15,1) to next release \n",
      " \n",
      " \n",
      " \n",
      " add seek(15,1) to next release \n",
      " \n",
      " \n",
      " \n",
      " add seek(15,1) to next release \n",
      " \n",
      " \n",
      " \n",
      " add seek(15,1) to next release \n",
      " \n",
      " \n",
      " \n",
      " add seek(15,1) to next release add seek(15,1) to next release \n",
      " add seek(-15,2) to next release \n",
      " \n"
     ]
    }
   ],
   "source": [
    "fp = open(\"D:\\sample3.txt\",'a+')\n",
    "print(fp.tell())\n",
    "fp.writelines([\"add seek(15,1) to next release \\n \",\"add seek(-15,2) to next release \\n \"])\n",
    "fp.seek(0,0) #list also can be added by using writelines\n",
    "r = fp.read()\n",
    "print(r)\n",
    "fp.close()"
   ]
  },
  {
   "cell_type": "code",
   "execution_count": null,
   "metadata": {},
   "outputs": [],
   "source": []
  }
 ],
 "metadata": {
  "kernelspec": {
   "display_name": "Python 3",
   "language": "python",
   "name": "python3"
  },
  "language_info": {
   "codemirror_mode": {
    "name": "ipython",
    "version": 3
   },
   "file_extension": ".py",
   "mimetype": "text/x-python",
   "name": "python",
   "nbconvert_exporter": "python",
   "pygments_lexer": "ipython3",
   "version": "3.7.4"
  }
 },
 "nbformat": 4,
 "nbformat_minor": 2
}
