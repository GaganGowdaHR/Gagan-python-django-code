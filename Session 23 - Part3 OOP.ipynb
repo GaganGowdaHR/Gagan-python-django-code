{
 "cells": [
  {
   "cell_type": "code",
   "execution_count": null,
   "metadata": {},
   "outputs": [],
   "source": [
    "Instance variable :"
   ]
  },
  {
   "cell_type": "code",
   "execution_count": null,
   "metadata": {},
   "outputs": [],
   "source": [
    "class User:    \n",
    "    \n",
    "    @classmethod \n",
    "    def incr_count(cls):\n",
    "        cls.count += 1 \n",
    "    \n",
    "    def __init__(self,id,name):\n",
    "        self.id = id\n",
    "        self.name = name \n",
    "    count = 0\n",
    "    \n",
    "user1 = User(1,\"ABC\")\n",
    "print(User.count)\n",
    "print(user1.__dict__)\n",
    "user1.count = 50"
   ]
  },
  {
   "cell_type": "code",
   "execution_count": null,
   "metadata": {},
   "outputs": [],
   "source": [
    "__str__ : => str \n",
    "__add__ : obj1 + obj2"
   ]
  },
  {
   "cell_type": "code",
   "execution_count": null,
   "metadata": {},
   "outputs": [],
   "source": [
    "Inheritance"
   ]
  },
  {
   "cell_type": "code",
   "execution_count": null,
   "metadata": {},
   "outputs": [],
   "source": [
    "User :\n",
    "    username\n",
    "    first_name \n",
    "    last_name \n",
    "    password\n",
    "    email\n",
    "    \n",
    "    login\n",
    "    logout \n",
    "    isauthenticated \n",
    "  \n",
    "Profile\n",
    "    Contact \n",
    "    Github \n",
    "    linkedin"
   ]
  },
  {
   "cell_type": "code",
   "execution_count": 1,
   "metadata": {},
   "outputs": [
    {
     "name": "stdout",
     "output_type": "stream",
     "text": [
      "AB\n",
      "www.github.com/a\n",
      "abc@123 abc@gmail.com www.github.com/a www.linkedin.com/abc\n"
     ]
    }
   ],
   "source": [
    "\n",
    "class User:\n",
    "    def __init__(self,username,email,password):\n",
    "        \n",
    "        self.user_name = username\n",
    "        self.email = email\n",
    "        self.password = password\n",
    "        \n",
    "    def login(self,username,password):\n",
    "        if self.user_name == username and self.password == password:\n",
    "            return True\n",
    "        else:\n",
    "            return False\n",
    "        \n",
    "    def add_name(self,name):\n",
    "        self.name = name\n",
    "        \n",
    "    def change_password(self,new_password):\n",
    "        self.password = new_password\n",
    "        \n",
    "    def get_details(self):\n",
    "        return \"{} {}\".format(self.user_name,self.email)\n",
    "        \n",
    "class Profile(User):\n",
    "    def __init__(self,user,email,password,contact,github,linkedin):\n",
    "        super().__init__(user,email,password)\n",
    "        self.contact = contact\n",
    "        self.github_url = github\n",
    "        self.linkedin_url = linkedin\n",
    "        \n",
    "    def update_github(self,new_url):\n",
    "        self.github_url = new_url\n",
    "        \n",
    "    def get_details(self):\n",
    "        return \"{} {} {} {}\".format(self.user_name,self.email,self.github_url,self.linkedin_url)\n",
    "\n",
    "profile1 = Profile(\"abc@123\",\"abc@gmail.com\",\"password@123\",\"9123456789\",\"www.github.com/abc\",\"www.linkedin.com/abc\")\n",
    "\n",
    "profile1.add_name(\"AB\")\n",
    "print(profile1.name)\n",
    "profile1.update_github(\"www.github.com/a\")\n",
    "print(profile1.github_url)\n",
    "\n",
    "# user2 = User(\"pqr\",\"pqr@gmail.com\",\"password@123\")\n",
    "# user2.update_github(\"www.github.com/p\")\n",
    "\n",
    "print(profile1.get_details())\n"
   ]
  },
  {
   "cell_type": "code",
   "execution_count": null,
   "metadata": {},
   "outputs": [],
   "source": [
    "Method Overiding"
   ]
  },
  {
   "cell_type": "code",
   "execution_count": 3,
   "metadata": {},
   "outputs": [
    {
     "name": "stdout",
     "output_type": "stream",
     "text": [
      "AB\n",
      "www.github.com/a\n",
      "abc@123 abc@gmail.com www.github.com/a www.linkedin.com/abc\n"
     ]
    }
   ],
   "source": [
    "class User:\n",
    "    def __init__(self,username,email,password):\n",
    "        \n",
    "        self.user_name = username\n",
    "        self.email = email\n",
    "        self.password = password\n",
    "        \n",
    "    def login(self,username,password):\n",
    "        if self.user_name == username and self.password == password:\n",
    "            return True\n",
    "        else:\n",
    "            return False\n",
    "        \n",
    "    def add_name(self,name):\n",
    "        self.name = name\n",
    "        \n",
    "    def change_password(self,new_password):\n",
    "        self.password = new_password\n",
    "        \n",
    "    def get_details(self):\n",
    "        return \"{} {}\".format(self.user_name,self.email)\n",
    "\n",
    "class Admin:\n",
    "    def get_details(self):\n",
    "        return \"{},{}\".format(\"admin\",\"admin@xyz.com\")\n",
    "    \n",
    "class Profile(Admin,User):\n",
    "    def __init__(self,user,email,password,contact,github,linkedin):\n",
    "        super().__init__(user,email,password)\n",
    "        self.contact = contact\n",
    "        self.github_url = github\n",
    "        self.linkedin_url = linkedin\n",
    "        \n",
    "    def update_github(self,new_url):\n",
    "        self.github_url = new_url\n",
    "        \n",
    "    def get_details(self):\n",
    "        \n",
    "        return \"{} {} {}\".format(User.get_details(self),self.github_url,self.linkedin_url)\n",
    "\n",
    "profile1 = Profile(\"abc@123\",\"abc@gmail.com\",\"password@123\",\"9123456789\",\"www.github.com/abc\",\"www.linkedin.com/abc\")\n",
    "\n",
    "profile1.add_name(\"AB\")\n",
    "print(profile1.name)\n",
    "profile1.update_github(\"www.github.com/a\")\n",
    "print(profile1.github_url)\n",
    "\n",
    "# user2 = User(\"pqr\",\"pqr@gmail.com\",\"password@123\")\n",
    "# user2.update_github(\"www.github.com/p\")\n",
    "\n",
    "print(profile1.get_details())"
   ]
  },
  {
   "cell_type": "code",
   "execution_count": null,
   "metadata": {},
   "outputs": [],
   "source": [
    "=> Single Inheritance \n",
    "    User(Parent) \n",
    "    Profile(Child)\n",
    "    \n",
    "    \n",
    "Multilevel :\n",
    "    Parent1\n",
    "    \n",
    "    parent2(parent1)\n",
    "    \n",
    "    child1(parent2) \n",
    "    \n",
    "Multiple inheritance :\n",
    "    \n",
    "User(Parent 1)  Admin(Parent 2)\n",
    "       Profile(Child )\n",
    "    \n",
    "Hybrid :\n",
    "    \n",
    "    parent1\n",
    "    \n",
    "parent2()      parent3\n",
    "\n",
    "      child(parent2,parent3)"
   ]
  },
  {
   "cell_type": "code",
   "execution_count": 4,
   "metadata": {},
   "outputs": [
    {
     "name": "stdout",
     "output_type": "stream",
     "text": [
      "Help on Profile in module __main__ object:\n",
      "\n",
      "class Profile(Admin, User)\n",
      " |  Profile(user, email, password, contact, github, linkedin)\n",
      " |  \n",
      " |  Method resolution order:\n",
      " |      Profile\n",
      " |      Admin\n",
      " |      User\n",
      " |      builtins.object\n",
      " |  \n",
      " |  Methods defined here:\n",
      " |  \n",
      " |  __init__(self, user, email, password, contact, github, linkedin)\n",
      " |      Initialize self.  See help(type(self)) for accurate signature.\n",
      " |  \n",
      " |  get_details(self)\n",
      " |  \n",
      " |  update_github(self, new_url)\n",
      " |  \n",
      " |  ----------------------------------------------------------------------\n",
      " |  Data descriptors inherited from Admin:\n",
      " |  \n",
      " |  __dict__\n",
      " |      dictionary for instance variables (if defined)\n",
      " |  \n",
      " |  __weakref__\n",
      " |      list of weak references to the object (if defined)\n",
      " |  \n",
      " |  ----------------------------------------------------------------------\n",
      " |  Methods inherited from User:\n",
      " |  \n",
      " |  add_name(self, name)\n",
      " |  \n",
      " |  change_password(self, new_password)\n",
      " |  \n",
      " |  login(self, username, password)\n",
      "\n"
     ]
    }
   ],
   "source": [
    "help(profile1)"
   ]
  },
  {
   "cell_type": "code",
   "execution_count": null,
   "metadata": {},
   "outputs": [],
   "source": [
    "Depth first left to right algo"
   ]
  },
  {
   "cell_type": "code",
   "execution_count": 7,
   "metadata": {},
   "outputs": [
    {
     "name": "stdout",
     "output_type": "stream",
     "text": [
      "abc@123 abc@gmail.com www.github.com/abc www.linkedin.com/abc\n"
     ]
    }
   ],
   "source": [
    "class User:\n",
    "    def __init__(self,username,email,password):\n",
    "        \n",
    "        self._user_name = username\n",
    "        self.email = email\n",
    "        self.__password = password\n",
    "        \n",
    "    def get_user_name(self):\n",
    "        return self.__user_name       \n",
    "    \n",
    "        \n",
    "    def login(self,username,password):\n",
    "        if self._user_name == username and self.__password == password:\n",
    "            return True\n",
    "        else:\n",
    "            return False\n",
    "        \n",
    "    def set_name(self,new_name):\n",
    "        self.__name = new_name\n",
    "        \n",
    "    def get_name(self):\n",
    "        return self.__name\n",
    "        \n",
    "    def change_password(self,new_password):\n",
    "        self.__password = new_password\n",
    "        \n",
    "    def get_details(self):\n",
    "        return \"{} {}\".format(self._user_name,self.email)\n",
    "\n",
    "class Admin:\n",
    "    def get_details(self):\n",
    "        return \"{},{}\".format(\"admin\",\"admin@xyz.com\")\n",
    "    \n",
    "class Profile(Admin,User):\n",
    "    def __init__(self,user,email,password,contact,github,linkedin):\n",
    "        super().__init__(user,email,password)\n",
    "        self.contact = contact\n",
    "        self.github_url = github\n",
    "        self.linkedin_url = linkedin\n",
    "        \n",
    "    def update_github(self,new_url):\n",
    "        self.github_url = new_url\n",
    "        \n",
    "    def get_details(self):\n",
    "        \n",
    "        return \"{} {} {} {}\".format(self._user_name,self.email,self.github_url,self.linkedin_url)\n",
    "\n",
    "profile1 = Profile(\"abc@123\",\"abc@gmail.com\",\"password@123\",\"9123456789\",\"www.github.com/abc\",\"www.linkedin.com/abc\")\n",
    "\n",
    "profile1.set_name(\"ABC\")\n",
    "# print(profile1.name)\n",
    "\n",
    "# profile1.update_github(\"www.github.com/a\")\n",
    "# print(profile1.github_url)\n",
    "\n",
    "print(profile1.get_details())\n",
    "\n",
    "# print(profile1.get_name())\n",
    "# print(profile1.get_user_name())"
   ]
  },
  {
   "cell_type": "code",
   "execution_count": null,
   "metadata": {},
   "outputs": [],
   "source": [
    "Public\n",
    "Private \n",
    "Protected"
   ]
  },
  {
   "cell_type": "code",
   "execution_count": null,
   "metadata": {},
   "outputs": [],
   "source": [
    "getters and setters"
   ]
  },
  {
   "cell_type": "code",
   "execution_count": 8,
   "metadata": {},
   "outputs": [
    {
     "name": "stdout",
     "output_type": "stream",
     "text": [
      "abc@123\n"
     ]
    }
   ],
   "source": [
    "\n",
    "class User:\n",
    "    def __init__(self,username,email,password):\n",
    "        \n",
    "        self._user_name = username\n",
    "        self.email = email\n",
    "        self.__password = password\n",
    "        \n",
    "    def get_user_name(self):\n",
    "        return self.__user_name       \n",
    "    \n",
    "        \n",
    "    def login(self,username,password):\n",
    "        if self._user_name == username and self.__password == password:\n",
    "            return True\n",
    "        else:\n",
    "            return False\n",
    "        \n",
    "    def set_name(self,new_name):\n",
    "        self.__name = new_name\n",
    "        \n",
    "    def get_name(self):\n",
    "        return self.__name\n",
    "        \n",
    "    def change_password(self,new_password):\n",
    "        self.__password = new_password\n",
    "        \n",
    "    def get_details(self):\n",
    "        return \"{} {}\".format(self._user_name,self.email)\n",
    "\n",
    "class Admin:\n",
    "    def get_details(self):\n",
    "        return \"{},{}\".format(\"admin\",\"admin@xyz.com\")\n",
    "    \n",
    "class Profile(Admin,User):\n",
    "    def __init__(self,user,email,password,contact,github,linkedin):\n",
    "        super().__init__(user,email,password)\n",
    "        self.contact = contact\n",
    "        self.github_url = github\n",
    "        self.linkedin_url = linkedin\n",
    "        \n",
    "    def update_github(self,new_url):\n",
    "        self.github_url = new_url\n",
    "        \n",
    "    def get_details(self):\n",
    "        \n",
    "        return \"{} {} {} {}\".format(self._user_name,self.email,self.github_url,self.linkedin_url)\n",
    "\n",
    "profile1 = Profile(\"abc@123\",\"abc@gmail.com\",\"password@123\",\"9123456789\",\"www.github.com/abc\",\"www.linkedin.com/abc\")\n",
    "# print(profile1._User__password)\n",
    "\n",
    "print(profile1._user_name)\n",
    "# profile1.set_name(\"ABC\")\n",
    "# print(profile1.name)\n",
    "\n",
    "# profile1.update_github(\"www.github.com/a\")\n",
    "# print(profile1.github_url)\n",
    "\n",
    "# print(profile1.get_details())\n",
    "\n",
    "# print(profile1.get_name())\n",
    "# print(profile1.get_user_name())"
   ]
  },
  {
   "cell_type": "code",
   "execution_count": null,
   "metadata": {},
   "outputs": [],
   "source": []
  }
 ],
 "metadata": {
  "kernelspec": {
   "display_name": "Python 3",
   "language": "python",
   "name": "python3"
  },
  "language_info": {
   "codemirror_mode": {
    "name": "ipython",
    "version": 3
   },
   "file_extension": ".py",
   "mimetype": "text/x-python",
   "name": "python",
   "nbconvert_exporter": "python",
   "pygments_lexer": "ipython3",
   "version": "3.7.4"
  }
 },
 "nbformat": 4,
 "nbformat_minor": 2
}
