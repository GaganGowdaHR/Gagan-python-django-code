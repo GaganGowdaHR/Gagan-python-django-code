{
 "cells": [
  {
   "cell_type": "code",
   "execution_count": null,
   "metadata": {},
   "outputs": [],
   "source": [
    "1.Given two numbers , print their sum. However , if the two numbers are the same , return doublt their sum"
   ]
  },
  {
   "cell_type": "code",
   "execution_count": 2,
   "metadata": {},
   "outputs": [
    {
     "name": "stdout",
     "output_type": "stream",
     "text": [
      "800\n"
     ]
    }
   ],
   "source": [
    "num1 = 200\n",
    "num2 = 200\n",
    "\n",
    "if num1 == num2:\n",
    "    print((num1 + num2) * 2)\n",
    "else:\n",
    "    print(num1 + num2)\n"
   ]
  },
  {
   "cell_type": "code",
   "execution_count": null,
   "metadata": {},
   "outputs": [],
   "source": [
    "2.Given a Cost price and Selling price of a product . Write program to calculate profit or lose"
   ]
  },
  {
   "cell_type": "code",
   "execution_count": 5,
   "metadata": {},
   "outputs": [
    {
     "name": "stdout",
     "output_type": "stream",
     "text": [
      "profit of: 700\n"
     ]
    }
   ],
   "source": [
    "cost_price = 500\n",
    "selling_price = 1200\n",
    "profit = selling_price > cost_price\n",
    "loss = cost_price > selling_price\n",
    "if selling_price > cost_price:\n",
    "    print(\"profit of:\",selling_price - cost_price)\n",
    "elif cost_price > selling_price:\n",
    "    print(\"loss of:\",cost_price - selling_price)\n",
    "else:\n",
    "    print(\"no profit no loss\")"
   ]
  },
  {
   "cell_type": "code",
   "execution_count": null,
   "metadata": {},
   "outputs": [],
   "source": [
    "3.Write a program to input basic salary of an employee and calculate gross salary according to given conditions.\n",
    "Basic Salary <= 10000 : HRA = 20%, DA = 80%\n",
    "Basic Salary is between 10001 to 20000 : HRA = 25% , DA = 90% \n",
    "Basic Salary >= 20001 : HRA = 30% , DA = 95%"
   ]
  },
  {
   "cell_type": "code",
   "execution_count": 21,
   "metadata": {},
   "outputs": [
    {
     "name": "stdout",
     "output_type": "stream",
     "text": [
      "43000.0\n"
     ]
    }
   ],
   "source": [
    "basic_salary = 20000\n",
    "\n",
    "if basic_salary <= 10000:\n",
    "    hra = (basic_salary * 20) / 100\n",
    "    da = (basic_salary * 80) / 100\n",
    "elif basic_salary >= 20000:\n",
    "    hra = (basic_salary * 25) / 100\n",
    "    da = (basic_salary * 90) / 100\n",
    "else:\n",
    "    hra = (basic_salary * 30) / 100\n",
    "    da = (basic_salary * 95) / 100\n",
    "    \n",
    "gross_salary = basic_salary + hra + da\n",
    "print(gross_salary)   "
   ]
  },
  {
   "cell_type": "code",
   "execution_count": null,
   "metadata": {},
   "outputs": [],
   "source": [
    "4.Write a program to check if given year is leap year or not\n",
    " leap year : a year is said to be leap if the year is exactly divisible by 4 but not divisible by 100"
   ]
  },
  {
   "cell_type": "code",
   "execution_count": 46,
   "metadata": {},
   "outputs": [
    {
     "name": "stdout",
     "output_type": "stream",
     "text": [
      "leap Year\n"
     ]
    }
   ],
   "source": [
    "year = 2000\n",
    "\n",
    "if year % 4 == 0 and year % 100 != 0:\n",
    "    print(\"leap Year\")\n",
    "elif year % 4 == 0 and year % 100 == 0 and year % 400 == 0:\n",
    "    print(\"leap Year\")\n",
    "else:\n",
    "    print(\"not a leap year\")"
   ]
  },
  {
   "cell_type": "code",
   "execution_count": null,
   "metadata": {},
   "outputs": [],
   "source": [
    "5.Write a program to check whether the given triangle is equilateral , scalene or isosceles. \n",
    "A triangle is said equilateral , if all the sides of the triangle is equal.if a, b, c are three sides of triangle.Then the \n",
    "triangle is equilateral only if a == b == c.\n",
    "A triangle is said to be isosceles, only if two sides are equal. like a == b , a == b or b == c\n",
    "A traingle is said to be scalene , only if no sides are equal."
   ]
  },
  {
   "cell_type": "code",
   "execution_count": 52,
   "metadata": {},
   "outputs": [
    {
     "name": "stdout",
     "output_type": "stream",
     "text": [
      "Scalene triangle\n"
     ]
    }
   ],
   "source": [
    "side_a = 4\n",
    "side_b = 7\n",
    "side_c = 5\n",
    "\n",
    "if side_a == side_b == side_c:\n",
    "    print(\"equilateral triangle\")\n",
    "elif side_a == side_b or side_a == side_c or side_b == side_c:\n",
    "    print(\"isosceles triangle\")\n",
    "else:\n",
    "    print(\"Scalene triangle\")"
   ]
  }
 ],
 "metadata": {
  "kernelspec": {
   "display_name": "Python 3",
   "language": "python",
   "name": "python3"
  },
  "language_info": {
   "codemirror_mode": {
    "name": "ipython",
    "version": 3
   },
   "file_extension": ".py",
   "mimetype": "text/x-python",
   "name": "python",
   "nbconvert_exporter": "python",
   "pygments_lexer": "ipython3",
   "version": "3.7.4"
  }
 },
 "nbformat": 4,
 "nbformat_minor": 2
}
